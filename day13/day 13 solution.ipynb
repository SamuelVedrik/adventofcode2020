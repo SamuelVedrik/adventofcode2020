{
 "cells": [
  {
   "cell_type": "code",
   "execution_count": 202,
   "metadata": {},
   "outputs": [],
   "source": [
    "import re\n",
    "from tqdm.auto import tqdm\n",
    "with open(\"data.txt\") as file:\n",
    "    inputs = [input_.strip() for input_ in file.readlines()]"
   ]
  },
  {
   "cell_type": "code",
   "execution_count": 203,
   "metadata": {},
   "outputs": [],
   "source": [
    "timestamp = int(inputs[0])\n",
    "schedule = inputs[1]\n",
    "buses = list(map(int, re.findall(\"\\d+\", schedule)))"
   ]
  },
  {
   "cell_type": "code",
   "execution_count": 204,
   "metadata": {},
   "outputs": [],
   "source": [
    "earliest = None\n",
    "while not earliest:\n",
    "    timestamp += 1\n",
    "    for bus in buses: \n",
    "        if timestamp % bus == 0:\n",
    "            earliest = bus"
   ]
  },
  {
   "cell_type": "code",
   "execution_count": 205,
   "metadata": {},
   "outputs": [
    {
     "data": {
      "text/plain": [
       "2095"
      ]
     },
     "execution_count": 205,
     "metadata": {},
     "output_type": "execute_result"
    }
   ],
   "source": [
    "(timestamp - int(inputs[0]))*earliest"
   ]
  },
  {
   "cell_type": "code",
   "execution_count": 206,
   "metadata": {},
   "outputs": [],
   "source": [
    "# part 2\n",
    "schedule = schedule.split(\",\")"
   ]
  },
  {
   "cell_type": "code",
   "execution_count": 207,
   "metadata": {},
   "outputs": [],
   "source": [
    "import numpy as np"
   ]
  },
  {
   "cell_type": "code",
   "execution_count": 208,
   "metadata": {},
   "outputs": [],
   "source": [
    "index_to_bus = {}\n",
    "for i in range(len(schedule)):\n",
    "    if schedule[i].isnumeric():\n",
    "        index_to_bus[i] = int(schedule[i])"
   ]
  },
  {
   "cell_type": "code",
   "execution_count": 209,
   "metadata": {},
   "outputs": [],
   "source": [
    "bus_to_index = {v:k for k, v in index_to_bus.items()}"
   ]
  },
  {
   "cell_type": "code",
   "execution_count": 210,
   "metadata": {},
   "outputs": [],
   "source": [
    "def check_constraint(multiplier, to_check):\n",
    "    first = multiplier * to_check[0]\n",
    "    for check in to_check[1:]:\n",
    "        if (first + bus_to_index[check])%check != 0:\n",
    "            return False\n",
    "    return True"
   ]
  },
  {
   "cell_type": "code",
   "execution_count": 211,
   "metadata": {},
   "outputs": [
    {
     "data": {
      "text/plain": [
       "{41: 0, 37: 35, 557: 41, 29: 43, 13: 54, 17: 58, 23: 64, 419: 72, 19: 91}"
      ]
     },
     "execution_count": 211,
     "metadata": {},
     "output_type": "execute_result"
    }
   ],
   "source": [
    "bus_to_index"
   ]
  },
  {
   "cell_type": "code",
   "execution_count": 212,
   "metadata": {},
   "outputs": [],
   "source": [
    "multiplier = 1\n",
    "step = 1\n",
    "curr_len = 2\n",
    "curr_check = buses[:curr_len]\n",
    "\n",
    "while curr_len <= len(buses):\n",
    "    if check_constraint(multiplier, curr_check):\n",
    "        if curr_len == len(buses):\n",
    "            break\n",
    "        step = np.product(curr_check[1:])\n",
    "        curr_check.append(buses[curr_len])\n",
    "        curr_len += 1\n",
    "    multiplier += step\n",
    "        "
   ]
  },
  {
   "cell_type": "code",
   "execution_count": 213,
   "metadata": {},
   "outputs": [
    {
     "data": {
      "text/plain": [
       "598411311431841"
      ]
     },
     "execution_count": 213,
     "metadata": {},
     "output_type": "execute_result"
    }
   ],
   "source": [
    "multiplier * buses[0]"
   ]
  }
 ],
 "metadata": {
  "kernelspec": {
   "display_name": "Python 3",
   "language": "python",
   "name": "python3"
  },
  "language_info": {
   "codemirror_mode": {
    "name": "ipython",
    "version": 3
   },
   "file_extension": ".py",
   "mimetype": "text/x-python",
   "name": "python",
   "nbconvert_exporter": "python",
   "pygments_lexer": "ipython3",
   "version": "3.7.9"
  }
 },
 "nbformat": 4,
 "nbformat_minor": 4
}
