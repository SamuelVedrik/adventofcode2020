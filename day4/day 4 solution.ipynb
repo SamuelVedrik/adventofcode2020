{
 "cells": [
  {
   "cell_type": "code",
   "execution_count": 1,
   "metadata": {},
   "outputs": [],
   "source": [
    "inputs = []\n",
    "curr_str = \"\"\n",
    "with open(\"data.txt\") as file:\n",
    "    lines = file.readlines()\n",
    "    for i, line in enumerate(lines):\n",
    "        curr_str += line\n",
    "        if line == \"\\n\" or i == len(lines)-1:\n",
    "            inputs.append(curr_str.replace(\"\\n\", \" \"))\n",
    "            curr_str = \"\"\n"
   ]
  },
  {
   "cell_type": "code",
   "execution_count": 2,
   "metadata": {},
   "outputs": [],
   "source": [
    "required = {\"byr\", \"iyr\", \"eyr\", \"hgt\", \"hcl\", \"ecl\", \"pid\"}\n",
    "num_valid = 0\n",
    "for input_ in inputs:\n",
    "    fields = set([item.split(\":\")[0] for item in input_.strip().split(\" \")])\n",
    "    not_in_fields = (required-fields)\n",
    "    num_valid += not_in_fields == set()    "
   ]
  },
  {
   "cell_type": "code",
   "execution_count": 3,
   "metadata": {},
   "outputs": [
    {
     "data": {
      "text/plain": [
       "222"
      ]
     },
     "execution_count": 3,
     "metadata": {},
     "output_type": "execute_result"
    }
   ],
   "source": [
    "num_valid"
   ]
  },
  {
   "cell_type": "code",
   "execution_count": 4,
   "metadata": {},
   "outputs": [
    {
     "data": {
      "text/plain": [
       "{'byr', 'cid', 'ecl', 'eyr', 'hcl', 'hgt', 'iyr', 'pid'}"
      ]
     },
     "execution_count": 4,
     "metadata": {},
     "output_type": "execute_result"
    }
   ],
   "source": [
    "fields"
   ]
  },
  {
   "cell_type": "code",
   "execution_count": 11,
   "metadata": {
    "hideOutput": true
   },
   "outputs": [],
   "source": [
    "import re\n",
    "def check_validity(data):\n",
    "    byr_valid = 1920 <= int(data[\"byr\"]) <= 2002\n",
    "    iyr_valid = 2010 <= int(data[\"iyr\"]) <= 2020\n",
    "    eyr_valid = 2020 <= int(data[\"eyr\"]) <= 2030\n",
    "    hgt_valid = False\n",
    "    if \"cm\" in data[\"hgt\"]:\n",
    "        hgt_valid = (150 <= int(data[\"hgt\"].replace(\"cm\", \"\")) <= 193)\n",
    "    else:\n",
    "        hgt_valid = (59 <= int(data[\"hgt\"].replace(\"in\", \"\")) <= 76)\n",
    "    \n",
    "    hcl_valid = re.match(r\"^#[0-9a-f]{6}$\", data[\"hcl\"]) is not None\n",
    "    elc_valid = data[\"ecl\"] in \"amb blu brn gry grn hzl oth\".split(\" \")\n",
    "    pid_valid = data[\"pid\"].isnumeric() and len(data[\"pid\"]) == 9\n",
    "    \n",
    "    return byr_valid and iyr_valid and eyr_valid and hgt_valid and hcl_valid and elc_valid and pid_valid"
   ]
  },
  {
   "cell_type": "code",
   "execution_count": 12,
   "metadata": {},
   "outputs": [],
   "source": [
    "num_valid = 0\n",
    "for input_ in inputs:\n",
    "    data = {item.split(\":\")[0]: item.split(\":\")[1] for item in input_.strip().split(\" \")}\n",
    "    fields = set(data.keys())\n",
    "    not_in_fields = (required-fields)\n",
    "    if len(not_in_fields) == 0:\n",
    "        num_valid += check_validity(data)"
   ]
  },
  {
   "cell_type": "code",
   "execution_count": 13,
   "metadata": {},
   "outputs": [
    {
     "data": {
      "text/plain": [
       "140"
      ]
     },
     "execution_count": 13,
     "metadata": {},
     "output_type": "execute_result"
    }
   ],
   "source": [
    "num_valid"
   ]
  }
 ],
 "metadata": {
  "kernelspec": {
   "display_name": "Python 3",
   "language": "python",
   "name": "python3"
  },
  "language_info": {
   "codemirror_mode": {
    "name": "ipython",
    "version": 3
   },
   "file_extension": ".py",
   "mimetype": "text/x-python",
   "name": "python",
   "nbconvert_exporter": "python",
   "pygments_lexer": "ipython3",
   "version": "3.7.9"
  }
 },
 "nbformat": 4,
 "nbformat_minor": 4
}
