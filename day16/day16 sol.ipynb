{
 "cells": [
  {
   "cell_type": "code",
   "execution_count": 1,
   "metadata": {},
   "outputs": [],
   "source": [
    "# Part 1"
   ]
  },
  {
   "cell_type": "code",
   "execution_count": 2,
   "metadata": {},
   "outputs": [],
   "source": [
    "with open(\"data.txt\") as file:\n",
    "    inputs = [input_.strip() for input_ in file.readlines()]"
   ]
  },
  {
   "cell_type": "code",
   "execution_count": 3,
   "metadata": {},
   "outputs": [],
   "source": [
    "rules = \"\"\"departure location: 31-538 or 546-960\n",
    "departure station: 39-660 or 673-960\n",
    "departure platform: 35-731 or 745-968\n",
    "departure track: 43-179 or 185-953\n",
    "departure date: 29-250 or 263-949\n",
    "departure time: 43-903 or 928-954\n",
    "arrival location: 46-372 or 384-968\n",
    "arrival station: 36-215 or 225-950\n",
    "arrival platform: 25-631 or 655-950\n",
    "arrival track: 26-768 or 781-962\n",
    "class: 29-462 or 478-974\n",
    "duration: 34-441 or 455-963\n",
    "price: 39-683 or 693-956\n",
    "route: 36-342 or 348-971\n",
    "row: 37-501 or 520-963\n",
    "seat: 46-356 or 369-973\n",
    "train: 43-414 or 423-954\n",
    "type: 35-160 or 178-950\n",
    "wagon: 29-878 or 889-959\n",
    "zone: 31-188 or 201-971\"\"\""
   ]
  },
  {
   "cell_type": "code",
   "execution_count": 4,
   "metadata": {},
   "outputs": [],
   "source": [
    "valid_numbers = []\n",
    "for rule in rules.split(\"\\n\"):\n",
    "    valid_val = rule.split(\": \")[1].split(\" or \")\n",
    "    valid_numbers.extend(valid_val)"
   ]
  },
  {
   "cell_type": "code",
   "execution_count": 5,
   "metadata": {},
   "outputs": [],
   "source": [
    "def is_valid(val):\n",
    "    for valid in valid_numbers:\n",
    "            min_, max_ = tuple(map(int, valid.split(\"-\")))\n",
    "            if val in range(min_, max_):\n",
    "                return True\n",
    "    return False"
   ]
  },
  {
   "cell_type": "code",
   "execution_count": 6,
   "metadata": {},
   "outputs": [],
   "source": [
    "invalid = 0\n",
    "for input_ in inputs:\n",
    "    values = list(map(int, input_.split(\",\")))\n",
    "    for val in values:\n",
    "        if not is_valid(val):\n",
    "            invalid += val"
   ]
  },
  {
   "cell_type": "code",
   "execution_count": 7,
   "metadata": {},
   "outputs": [],
   "source": [
    "# part 2\n",
    "\n",
    "# I'm excited to use CSPs in a real problem for the first time! "
   ]
  },
  {
   "cell_type": "code",
   "execution_count": 8,
   "metadata": {},
   "outputs": [],
   "source": [
    "# get rid of invalid tickets\n",
    "pruned_input = []\n",
    "for input_ in inputs:\n",
    "    values = list(map(int, input_.split(\",\")))\n",
    "    is_valid_ticket = True\n",
    "    for val in values:\n",
    "        if not is_valid(val):\n",
    "            is_valid_ticket = False\n",
    "    if is_valid_ticket:\n",
    "        pruned_input.append(list(map(int, input_.split(\",\"))))"
   ]
  },
  {
   "cell_type": "code",
   "execution_count": 9,
   "metadata": {},
   "outputs": [],
   "source": [
    "my_ticket = [137,149,139,127,83,61,89,53,73,67,131,113,109,101,71,59,103,97,107,79]\n",
    "pruned_input.append(my_ticket)"
   ]
  },
  {
   "cell_type": "code",
   "execution_count": 10,
   "metadata": {
    "hideCode": true,
    "hideOutput": true
   },
   "outputs": [],
   "source": [
    "rule_dict = {rule.split(\": \")[0]: rule.split(\": \")[1] for rule in rules.split(\"\\n\")}"
   ]
  },
  {
   "cell_type": "code",
   "execution_count": 11,
   "metadata": {},
   "outputs": [],
   "source": [
    "for rule in rule_dict: \n",
    "    range_1, range_2 = rule_dict[rule].split(\" or \")\n",
    "    range_1 = range(*[int(range_) + i for i, range_ in enumerate(range_1.split(\"-\"))])\n",
    "    range_2 = range(*[int(range_) + i for i, range_ in enumerate(range_2.split(\"-\"))])\n",
    "    rule_dict[rule] = range_1, range_2"
   ]
  },
  {
   "cell_type": "code",
   "execution_count": 12,
   "metadata": {},
   "outputs": [],
   "source": [
    "def is_possible(rule, pos):\n",
    "    range_1, range_2 = rule_dict[rule]\n",
    "    for ticket in pruned_input:\n",
    "        val = ticket[pos]\n",
    "        if val not in range_1 and val not in range_2:\n",
    "            return False\n",
    "    return True"
   ]
  },
  {
   "cell_type": "code",
   "execution_count": 13,
   "metadata": {},
   "outputs": [],
   "source": [
    "pos_to_rule = {}\n",
    "for pos in range(len(rule_dict.keys())):\n",
    "    possible_rules = []\n",
    "    for rule in rule_dict:\n",
    "        if is_possible(rule, pos):\n",
    "            possible_rules.append(rule)\n",
    "    pos_to_rule[pos] = frozenset(possible_rules)\n",
    "        "
   ]
  },
  {
   "cell_type": "code",
   "execution_count": 14,
   "metadata": {},
   "outputs": [],
   "source": [
    "from constraint import *"
   ]
  },
  {
   "cell_type": "code",
   "execution_count": 15,
   "metadata": {},
   "outputs": [],
   "source": [
    "problem = Problem()\n",
    "for pos in pos_to_rule:\n",
    "    problem.addVariable(pos, list(pos_to_rule[pos]))\n",
    "problem.addConstraint(AllDifferentConstraint())\n",
    "sol = {rule: pos for pos, rule in problem.getSolutions()[0].items()}"
   ]
  },
  {
   "cell_type": "code",
   "execution_count": 16,
   "metadata": {},
   "outputs": [
    {
     "data": {
      "text/plain": [
       "{'wagon': 12,\n",
       " 'route': 13,\n",
       " 'class': 0,\n",
       " 'row': 9,\n",
       " 'departure platform': 16,\n",
       " 'departure track': 1,\n",
       " 'departure station': 14,\n",
       " 'departure date': 17,\n",
       " 'departure location': 2,\n",
       " 'departure time': 6,\n",
       " 'type': 10,\n",
       " 'train': 11,\n",
       " 'zone': 5,\n",
       " 'duration': 19,\n",
       " 'arrival station': 4,\n",
       " 'price': 7,\n",
       " 'arrival location': 18,\n",
       " 'seat': 8,\n",
       " 'arrival platform': 3,\n",
       " 'arrival track': 15}"
      ]
     },
     "execution_count": 16,
     "metadata": {},
     "output_type": "execute_result"
    }
   ],
   "source": [
    "sol"
   ]
  },
  {
   "cell_type": "code",
   "execution_count": 17,
   "metadata": {},
   "outputs": [
    {
     "data": {
      "text/plain": [
       "1307550234719"
      ]
     },
     "execution_count": 17,
     "metadata": {},
     "output_type": "execute_result"
    }
   ],
   "source": [
    "my_ticket[16] * my_ticket[1] * my_ticket[14] * my_ticket[17] * my_ticket[2] * my_ticket[6]"
   ]
  }
 ],
 "metadata": {
  "kernelspec": {
   "display_name": "Python 3",
   "language": "python",
   "name": "python3"
  },
  "language_info": {
   "codemirror_mode": {
    "name": "ipython",
    "version": 3
   },
   "file_extension": ".py",
   "mimetype": "text/x-python",
   "name": "python",
   "nbconvert_exporter": "python",
   "pygments_lexer": "ipython3",
   "version": "3.7.9"
  }
 },
 "nbformat": 4,
 "nbformat_minor": 4
}
