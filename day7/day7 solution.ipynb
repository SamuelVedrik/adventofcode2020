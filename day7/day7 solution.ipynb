{
 "cells": [
  {
   "cell_type": "code",
   "execution_count": 72,
   "metadata": {},
   "outputs": [],
   "source": [
    "import re\n",
    "with open(\"data.txt\") as file:\n",
    "    inputs = file.readlines()"
   ]
  },
  {
   "cell_type": "code",
   "execution_count": 73,
   "metadata": {},
   "outputs": [],
   "source": [
    "# part 1"
   ]
  },
  {
   "cell_type": "code",
   "execution_count": 74,
   "metadata": {},
   "outputs": [],
   "source": [
    "bags = {}\n",
    "# I was very stubborn against using regex, would've helped a lot in this\n",
    "for input_ in inputs:\n",
    "    words = input_.split(\" \")\n",
    "    key = \" \".join(words[:3]) \n",
    "    if \"no other bags\" not in input_:\n",
    "        values = \" \".join(words[4:])\n",
    "        values = [value[1:].strip().replace(\".\", \"\") for value in values.split(\", \")]\n",
    "        # Fixes if the value is 1 then it ends with \"bag\" instead of bags. Pretty slow but it works\n",
    "        values = [value if value[-1] == \"s\" else value+\"s\" for value in values] \n",
    "        bags[key] = values\n",
    "    else:\n",
    "        bags[key] = None"
   ]
  },
  {
   "cell_type": "code",
   "execution_count": 19,
   "metadata": {},
   "outputs": [],
   "source": [
    "def contains_shiny(bag):\n",
    "    \n",
    "    # Base cases\n",
    "    if bags[bag] is None:\n",
    "        return False\n",
    "    if \"shiny gold bags\" in bags[bag]:\n",
    "        return True\n",
    "    \n",
    "    # Recursion step\n",
    "    for child_bag in bags[bag]:\n",
    "        if contains_shiny(child_bag):\n",
    "            return True\n",
    "    return False\n",
    "        "
   ]
  },
  {
   "cell_type": "code",
   "execution_count": 20,
   "metadata": {},
   "outputs": [],
   "source": [
    "reaches_shiny = 0\n",
    "for bag in bags:\n",
    "    reaches_shiny += contains_shiny(bag)"
   ]
  },
  {
   "cell_type": "code",
   "execution_count": 21,
   "metadata": {},
   "outputs": [
    {
     "data": {
      "text/plain": [
       "192"
      ]
     },
     "execution_count": 21,
     "metadata": {},
     "output_type": "execute_result"
    }
   ],
   "source": [
    "reaches_shiny"
   ]
  },
  {
   "cell_type": "code",
   "execution_count": 23,
   "metadata": {},
   "outputs": [],
   "source": [
    "# part 2"
   ]
  },
  {
   "cell_type": "code",
   "execution_count": 66,
   "metadata": {},
   "outputs": [],
   "source": [
    "bags_contains = {}\n",
    "for input_ in inputs:\n",
    "    words = input_.split(\" \")\n",
    "    key = \" \".join(words[:3])\n",
    "    values = re.findall(\"\\d+ [A-Za-z ]* bag[s]?\", input_)\n",
    "    values = [value if value[-1] == \"s\" else value+\"s\" for value in values]\n",
    "    bags_contains[key] = values"
   ]
  },
  {
   "cell_type": "code",
   "execution_count": 70,
   "metadata": {},
   "outputs": [],
   "source": [
    "def get_contains(bag):\n",
    "    \n",
    "    if bags_contains[bag] == []:\n",
    "        return 0\n",
    "    \n",
    "    total = 0\n",
    "    for child_bag in bags_contains[bag]:\n",
    "        num = int(re.findall(\"\\d+\", child_bag)[0])\n",
    "        total += (num) + (num * get_contains(\" \".join(child_bag.split(\" \")[1:])))\n",
    "    return total\n",
    "        \n",
    "        \n",
    "        "
   ]
  },
  {
   "cell_type": "code",
   "execution_count": 71,
   "metadata": {},
   "outputs": [
    {
     "data": {
      "text/plain": [
       "12128"
      ]
     },
     "execution_count": 71,
     "metadata": {},
     "output_type": "execute_result"
    }
   ],
   "source": [
    "get_contains(\"shiny gold bags\")"
   ]
  },
  {
   "cell_type": "code",
   "execution_count": null,
   "metadata": {},
   "outputs": [],
   "source": []
  }
 ],
 "metadata": {
  "kernelspec": {
   "display_name": "Python 3",
   "language": "python",
   "name": "python3"
  },
  "language_info": {
   "codemirror_mode": {
    "name": "ipython",
    "version": 3
   },
   "file_extension": ".py",
   "mimetype": "text/x-python",
   "name": "python",
   "nbconvert_exporter": "python",
   "pygments_lexer": "ipython3",
   "version": "3.7.9"
  }
 },
 "nbformat": 4,
 "nbformat_minor": 4
}
