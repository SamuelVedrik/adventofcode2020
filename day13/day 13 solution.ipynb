{
 "cells": [
  {
   "cell_type": "code",
   "execution_count": 1,
   "metadata": {},
   "outputs": [],
   "source": [
    "import re\n",
    "from tqdm.auto import tqdm\n",
    "with open(\"data.txt\") as file:\n",
    "    inputs = [input_.strip() for input_ in file.readlines()]"
   ]
  },
  {
   "cell_type": "code",
   "execution_count": 2,
   "metadata": {},
   "outputs": [],
   "source": [
    "timestamp = int(inputs[0])\n",
    "schedule = inputs[1]\n",
    "buses = list(map(int, re.findall(\"\\d+\", schedule)))"
   ]
  },
  {
   "cell_type": "code",
   "execution_count": 3,
   "metadata": {},
   "outputs": [],
   "source": [
    "earliest = None\n",
    "while not earliest:\n",
    "    timestamp += 1\n",
    "    for bus in buses: \n",
    "        if timestamp % bus == 0:\n",
    "            earliest = bus"
   ]
  },
  {
   "cell_type": "code",
   "execution_count": 4,
   "metadata": {},
   "outputs": [
    {
     "data": {
      "text/plain": [
       "2095"
      ]
     },
     "execution_count": 4,
     "metadata": {},
     "output_type": "execute_result"
    }
   ],
   "source": [
    "(timestamp - int(inputs[0]))*earliest"
   ]
  },
  {
   "cell_type": "code",
   "execution_count": 5,
   "metadata": {},
   "outputs": [],
   "source": [
    "# part 2\n",
    "schedule = schedule.split(\",\")"
   ]
  },
  {
   "cell_type": "markdown",
   "metadata": {},
   "source": [
    "#### Part 2 explanation\n",
    "\n",
    "For future me too. \n",
    "\n",
    "Suppose you found two different integers a, b such that: \n",
    "\n",
    "$$13b - 7a =1$$\n",
    "(The 13 and 7 come from the example given from the problem). Then it's necessary that any other solution of b and a will follow:\n",
    "\n",
    "$$13(b+7k) - 7(a+13k) = 1$$\n",
    "\n",
    "So we can deduce that the different solutions for a and b have to follow a sequence. If we throw in multiple constraints together: \n",
    "\n",
    "$$13(b+7k) - 7(a+13k) = 1$$\n",
    "\n",
    "$$59(c+7j) - 7(a+59j) = 4$$\n",
    "\n",
    "So we have it that every step in the sequence is a multiple of 13 and 59. Since both are prime, the least common multiple is just the product of the two. \n"
   ]
  },
  {
   "cell_type": "code",
   "execution_count": 6,
   "metadata": {},
   "outputs": [],
   "source": [
    "import numpy as np"
   ]
  },
  {
   "cell_type": "code",
   "execution_count": 7,
   "metadata": {},
   "outputs": [],
   "source": [
    "index_to_bus = {}\n",
    "for i in range(len(schedule)):\n",
    "    if schedule[i].isnumeric():\n",
    "        index_to_bus[i] = int(schedule[i])"
   ]
  },
  {
   "cell_type": "code",
   "execution_count": 8,
   "metadata": {},
   "outputs": [],
   "source": [
    "bus_to_index = {v:k for k, v in index_to_bus.items()}"
   ]
  },
  {
   "cell_type": "code",
   "execution_count": 9,
   "metadata": {},
   "outputs": [],
   "source": [
    "def check_constraint(multiplier, to_check):\n",
    "    first = multiplier * to_check[0]\n",
    "    for check in to_check[1:]:\n",
    "        if (first + bus_to_index[check])%check != 0:\n",
    "            return False\n",
    "    return True"
   ]
  },
  {
   "cell_type": "code",
   "execution_count": 11,
   "metadata": {},
   "outputs": [],
   "source": [
    "multiplier = 1\n",
    "step = 1\n",
    "curr_len = 2\n",
    "curr_check = buses[:curr_len]\n",
    "\n",
    "while curr_len <= len(buses):\n",
    "    if check_constraint(multiplier, curr_check):\n",
    "        if curr_len == len(buses):\n",
    "            break\n",
    "        step = np.product(curr_check[1:])\n",
    "        curr_check.append(buses[curr_len])\n",
    "        curr_len += 1\n",
    "    multiplier += step\n",
    "        "
   ]
  },
  {
   "cell_type": "code",
   "execution_count": 12,
   "metadata": {},
   "outputs": [
    {
     "data": {
      "text/plain": [
       "598411311431841"
      ]
     },
     "execution_count": 12,
     "metadata": {},
     "output_type": "execute_result"
    }
   ],
   "source": [
    "multiplier * buses[0]"
   ]
  }
 ],
 "metadata": {
  "kernelspec": {
   "display_name": "Python 3",
   "language": "python",
   "name": "python3"
  },
  "language_info": {
   "codemirror_mode": {
    "name": "ipython",
    "version": 3
   },
   "file_extension": ".py",
   "mimetype": "text/x-python",
   "name": "python",
   "nbconvert_exporter": "python",
   "pygments_lexer": "ipython3",
   "version": "3.7.9"
  }
 },
 "nbformat": 4,
 "nbformat_minor": 4
}
