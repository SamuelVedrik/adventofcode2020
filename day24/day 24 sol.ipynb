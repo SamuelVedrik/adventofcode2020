{
 "cells": [
  {
   "cell_type": "code",
   "execution_count": 176,
   "metadata": {},
   "outputs": [],
   "source": [
    "import numpy as np\n",
    "import matplotlib.pyplot as plt\n",
    "from tqdm.auto import tqdm\n",
    "with open(\"data.txt\") as file:\n",
    "    inputs = [input_.strip() for input_ in file.readlines()]"
   ]
  },
  {
   "cell_type": "code",
   "execution_count": 177,
   "metadata": {
    "hideCode": true
   },
   "outputs": [],
   "source": [
    "black_tiles = set()\n",
    "reference_tile = np.array([0, 0])\n",
    "dir_to_vec = {\n",
    "    \"e\": np.array([1, 0]),\n",
    "    \"w\": np.array([-1, 0]),\n",
    "    \"nw\": np.array([-1, 1]),\n",
    "    \"ne\": np.array([0, 1]),\n",
    "    \"sw\": np.array([0, -1]),\n",
    "    \"se\": np.array([1, -1])\n",
    "}\n",
    "\n",
    "\n",
    "def get_location(instructions, initial=np.array([0, 0])):\n",
    "    dest = initial\n",
    "    curr_operation = \"\"\n",
    "    for dir_ in instructions:\n",
    "        curr_operation += dir_\n",
    "        if curr_operation in dir_to_vec.keys():\n",
    "            dest = dest + dir_to_vec[curr_operation]\n",
    "            curr_operation = \"\"\n",
    "    return dest\n",
    "\n",
    "\n",
    "for instruction in inputs:\n",
    "    \n",
    "    full_dest = get_location(instruction)\n",
    "    dest_key = tuple(full_dest)\n",
    "    \n",
    "    if dest_key in black_tiles:\n",
    "        black_tiles = black_tiles - {dest_key}\n",
    "    else:\n",
    "        black_tiles = black_tiles.union(set([dest_key]))"
   ]
  },
  {
   "cell_type": "code",
   "execution_count": 178,
   "metadata": {},
   "outputs": [
    {
     "data": {
      "text/plain": [
       "391"
      ]
     },
     "execution_count": 178,
     "metadata": {},
     "output_type": "execute_result"
    }
   ],
   "source": [
    "len(black_tiles)"
   ]
  },
  {
   "cell_type": "code",
   "execution_count": 179,
   "metadata": {},
   "outputs": [],
   "source": [
    "# Part 2"
   ]
  },
  {
   "cell_type": "code",
   "execution_count": 180,
   "metadata": {},
   "outputs": [],
   "source": [
    "def get_num_adjacent_black(tile):\n",
    "    num_black = 0\n",
    "    for vector in dir_to_vec.values():\n",
    "        adjacent = tile + vector\n",
    "        adj_key = tuple(adjacent)\n",
    "        if adj_key in black_tiles:\n",
    "            num_black += 1\n",
    "    return num_black\n",
    "    \n",
    "def get_white_tiles_visited(tile):\n",
    "    white_tiles = []\n",
    "    for vector in dir_to_vec.values():\n",
    "        adjacent = tile + vector\n",
    "        adj_key = tuple(adjacent)\n",
    "        if adj_key not in black_tiles:\n",
    "            white_tiles.append(adj_key)\n",
    "            \n",
    "    return white_tiles"
   ]
  },
  {
   "cell_type": "code",
   "execution_count": 181,
   "metadata": {},
   "outputs": [
    {
     "data": {
      "application/vnd.jupyter.widget-view+json": {
       "model_id": "28fb63f84bfa43a986471671f77c2613",
       "version_major": 2,
       "version_minor": 0
      },
      "text/plain": [
       "HBox(children=(FloatProgress(value=0.0), HTML(value='')))"
      ]
     },
     "metadata": {},
     "output_type": "display_data"
    },
    {
     "name": "stdout",
     "output_type": "stream",
     "text": [
      "\n"
     ]
    }
   ],
   "source": [
    "for day in tqdm(range(100)):\n",
    "    white_tiles_visited = {}\n",
    "    black_tiles_result = black_tiles.copy()\n",
    "    for black_tile in black_tiles:\n",
    "        white_tiles = get_white_tiles_visited(black_tile)\n",
    "        num_black = get_num_adjacent_black(black_tile)\n",
    "        if num_black == 0 or num_black > 2:\n",
    "            # No longer black \n",
    "            black_tiles_result = black_tiles_result - {black_tile}\n",
    "        \n",
    "        for white_tile in white_tiles:\n",
    "            if white_tile not in white_tiles_visited: \n",
    "                white_tiles_visited[white_tile] = 0\n",
    "            white_tiles_visited[white_tile] += 1\n",
    "            \n",
    "    for white_tile in white_tiles_visited:\n",
    "        if white_tiles_visited[white_tile] == 2:\n",
    "            black_tiles_result = black_tiles_result.union({white_tile})\n",
    "        \n",
    "    black_tiles = black_tiles_result\n"
   ]
  },
  {
   "cell_type": "code",
   "execution_count": 182,
   "metadata": {},
   "outputs": [
    {
     "data": {
      "text/plain": [
       "3876"
      ]
     },
     "execution_count": 182,
     "metadata": {},
     "output_type": "execute_result"
    }
   ],
   "source": [
    "len(black_tiles)"
   ]
  }
 ],
 "metadata": {
  "kernelspec": {
   "display_name": "Python 3",
   "language": "python",
   "name": "python3"
  },
  "language_info": {
   "codemirror_mode": {
    "name": "ipython",
    "version": 3
   },
   "file_extension": ".py",
   "mimetype": "text/x-python",
   "name": "python",
   "nbconvert_exporter": "python",
   "pygments_lexer": "ipython3",
   "version": "3.7.9"
  }
 },
 "nbformat": 4,
 "nbformat_minor": 4
}
