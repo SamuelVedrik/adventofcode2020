{
 "cells": [
  {
   "cell_type": "code",
   "execution_count": 47,
   "metadata": {},
   "outputs": [],
   "source": [
    "# Part 1: I have no idea how to work with binaries lol "
   ]
  },
  {
   "cell_type": "code",
   "execution_count": 38,
   "metadata": {},
   "outputs": [],
   "source": [
    "import re\n",
    "with open(\"data.txt\") as file:\n",
    "    inputs = [input_.strip() for input_ in file.readlines()]"
   ]
  },
  {
   "cell_type": "code",
   "execution_count": 39,
   "metadata": {},
   "outputs": [],
   "source": [
    "def get_binary_string(value):\n",
    "    binary_ = bin(int(value))[2:]\n",
    "    return \"0\"*(36-len(binary_)) + binary_"
   ]
  },
  {
   "cell_type": "code",
   "execution_count": 40,
   "metadata": {},
   "outputs": [],
   "source": [
    "def mask_binary(mask, binary):\n",
    "    result = \"\"\n",
    "    for mask_char, bin_char in zip(mask, binary):\n",
    "        if mask_char == \"X\":\n",
    "            result += bin_char\n",
    "        else:\n",
    "            result += mask_char\n",
    "    return result"
   ]
  },
  {
   "cell_type": "code",
   "execution_count": 42,
   "metadata": {},
   "outputs": [],
   "source": [
    "memory = {}\n",
    "curr_mask = \"\"\n",
    "for input_ in inputs:\n",
    "    command, value = input_.split(\" = \")\n",
    "    if command == \"mask\":\n",
    "        curr_mask = value\n",
    "    else:\n",
    "        command_mem = re.findall(\"\\d+\", command)[0]\n",
    "        memory[command_mem] = mask_binary(curr_mask, get_binary_string(value))\n",
    "        "
   ]
  },
  {
   "cell_type": "code",
   "execution_count": 45,
   "metadata": {},
   "outputs": [],
   "source": [
    "total = 0\n",
    "for val in memory.values():\n",
    "    total += int(val, 2)"
   ]
  },
  {
   "cell_type": "code",
   "execution_count": 46,
   "metadata": {},
   "outputs": [
    {
     "data": {
      "text/plain": [
       "13727901897109"
      ]
     },
     "execution_count": 46,
     "metadata": {},
     "output_type": "execute_result"
    }
   ],
   "source": [
    "total"
   ]
  },
  {
   "cell_type": "code",
   "execution_count": 48,
   "metadata": {},
   "outputs": [],
   "source": [
    "# Part 2: "
   ]
  },
  {
   "cell_type": "code",
   "execution_count": 54,
   "metadata": {},
   "outputs": [],
   "source": [
    "import itertools\n",
    "def part_2_mask(mask, binary):\n",
    "    result = \"\"\n",
    "    num_repeat = 0\n",
    "    for mask_char, bin_char in zip(mask, binary):\n",
    "        if mask_char == \"1\":\n",
    "            result += \"1\"\n",
    "        elif mask_char == \"X\":\n",
    "            result += \"{}\"\n",
    "            num_repeat += 1\n",
    "        else: # mask_char == \"0\"\n",
    "            result += bin_char\n",
    "            \n",
    "    return [result.format(*combo) for combo in itertools.product([0, 1], repeat=num_repeat)]\n"
   ]
  },
  {
   "cell_type": "code",
   "execution_count": 56,
   "metadata": {},
   "outputs": [],
   "source": [
    "memory = {}\n",
    "curr_mask = \"\"\n",
    "for input_ in inputs: \n",
    "    command, value = input_.split(\" = \")\n",
    "    if command == \"mask\":\n",
    "        curr_mask = value\n",
    "    else:\n",
    "        command_mem = re.findall(\"\\d+\", command)[0]\n",
    "        for set_ in map(lambda x: int(x, 2), part_2_mask(curr_mask, get_binary_string(command_mem))):\n",
    "            memory[set_] = int(value)"
   ]
  },
  {
   "cell_type": "code",
   "execution_count": 58,
   "metadata": {},
   "outputs": [
    {
     "data": {
      "text/plain": [
       "5579916171823"
      ]
     },
     "execution_count": 58,
     "metadata": {},
     "output_type": "execute_result"
    }
   ],
   "source": [
    "sum(memory.values())"
   ]
  },
  {
   "cell_type": "code",
   "execution_count": null,
   "metadata": {},
   "outputs": [],
   "source": []
  }
 ],
 "metadata": {
  "kernelspec": {
   "display_name": "Python 3",
   "language": "python",
   "name": "python3"
  },
  "language_info": {
   "codemirror_mode": {
    "name": "ipython",
    "version": 3
   },
   "file_extension": ".py",
   "mimetype": "text/x-python",
   "name": "python",
   "nbconvert_exporter": "python",
   "pygments_lexer": "ipython3",
   "version": "3.7.9"
  }
 },
 "nbformat": 4,
 "nbformat_minor": 4
}
