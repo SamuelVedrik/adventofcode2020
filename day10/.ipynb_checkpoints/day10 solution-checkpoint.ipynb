{
 "cells": [
  {
   "cell_type": "code",
   "execution_count": 1,
   "metadata": {},
   "outputs": [],
   "source": [
    "with open(\"data.txt\") as file:\n",
    "    inputs = [int(input_.strip()) for input_ in file.readlines()]"
   ]
  },
  {
   "cell_type": "code",
   "execution_count": 2,
   "metadata": {},
   "outputs": [],
   "source": [
    "inputs = [0] + sorted(inputs) + [max(inputs)+3]"
   ]
  },
  {
   "cell_type": "code",
   "execution_count": 3,
   "metadata": {},
   "outputs": [],
   "source": [
    "differences = {}\n",
    "for i in range(len(inputs)-1):\n",
    "    difference = inputs[i+1] - inputs[i]\n",
    "    if difference not in differences:\n",
    "        differences[difference] = 0\n",
    "    differences[difference] += 1"
   ]
  },
  {
   "cell_type": "code",
   "execution_count": 4,
   "metadata": {},
   "outputs": [
    {
     "data": {
      "text/plain": [
       "2232"
      ]
     },
     "execution_count": 4,
     "metadata": {},
     "output_type": "execute_result"
    }
   ],
   "source": [
    "differences[3] * differences[1]"
   ]
  },
  {
   "cell_type": "code",
   "execution_count": 5,
   "metadata": {},
   "outputs": [],
   "source": [
    "# Part 2"
   ]
  },
  {
   "cell_type": "code",
   "execution_count": 6,
   "metadata": {},
   "outputs": [],
   "source": [
    "connections = {}\n",
    "for i in range(len(inputs)-1):\n",
    "    check_connections = inputs[i+1:max(i+4, len(inputs))]\n",
    "    connections[inputs[i]] = [connection for connection in check_connections if connection - inputs[i] <=3]"
   ]
  },
  {
   "cell_type": "code",
   "execution_count": 7,
   "metadata": {},
   "outputs": [],
   "source": [
    "memo = {}\n",
    "def get_num_paths(node):\n",
    "    if node == inputs[-1]:\n",
    "        return 0\n",
    "    else:\n",
    "        if node not in memo:\n",
    "            memo[node] = sum([get_num_paths(node) for node in connections[node]]) + (inputs[-1] in connections[node])\n",
    "        return memo[node]"
   ]
  },
  {
   "cell_type": "code",
   "execution_count": 8,
   "metadata": {},
   "outputs": [
    {
     "data": {
      "text/plain": [
       "173625106649344"
      ]
     },
     "execution_count": 8,
     "metadata": {},
     "output_type": "execute_result"
    }
   ],
   "source": [
    "get_num_paths(0)"
   ]
  }
 ],
 "metadata": {
  "kernelspec": {
   "display_name": "Python 3",
   "language": "python",
   "name": "python3"
  },
  "language_info": {
   "codemirror_mode": {
    "name": "ipython",
    "version": 3
   },
   "file_extension": ".py",
   "mimetype": "text/x-python",
   "name": "python",
   "nbconvert_exporter": "python",
   "pygments_lexer": "ipython3",
   "version": "3.7.9"
  }
 },
 "nbformat": 4,
 "nbformat_minor": 4
}
