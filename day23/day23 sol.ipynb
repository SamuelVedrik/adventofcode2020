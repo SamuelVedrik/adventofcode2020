{
 "cells": [
  {
   "cell_type": "code",
   "execution_count": 1,
   "metadata": {},
   "outputs": [],
   "source": [
    "# Part 1"
   ]
  },
  {
   "cell_type": "code",
   "execution_count": 2,
   "metadata": {},
   "outputs": [],
   "source": [
    "cups = [1,2,3,4,8,7,5,9,6]\n",
    "# cups = [3,8,9,1,2,5,4,6,7]\n",
    "cups = [cup-1 for cup in cups]\n",
    "clockwise_graph = {cup: cup_2 for cup, cup_2 in zip(cups, cups[1:] + cups[0:1])}\n",
    "curr_cup = cups[0]"
   ]
  },
  {
   "cell_type": "code",
   "execution_count": 3,
   "metadata": {},
   "outputs": [],
   "source": [
    "def single_turn():\n",
    "    global curr_cup\n",
    "    chosen_cups = []\n",
    "    chosen = curr_cup\n",
    "    for _ in range(3):\n",
    "        chosen = clockwise_graph[chosen]\n",
    "        chosen_cups.append(chosen)\n",
    "        \n",
    "    \n",
    "    destination_cup = (curr_cup - 1)%len(cups)\n",
    "    while destination_cup in chosen_cups:\n",
    "        destination_cup = ((destination_cup-1)%len(cups))\n",
    "    \n",
    "#     print(\"Current Cup: \", curr_cup+1)\n",
    "#     print(\"Chosen Cups: \", [cup+1 for cup in chosen_cups])\n",
    "#     print(\"Destination Cup: \", destination_cup+1)\n",
    "    \n",
    "    destination_old_connection = clockwise_graph[destination_cup] \n",
    "    last_cup_old_connection = clockwise_graph[chosen_cups[2]]\n",
    "    \n",
    "    # Updates\n",
    "    clockwise_graph[destination_cup] = chosen_cups[0]\n",
    "    clockwise_graph[chosen_cups[2]] = destination_old_connection\n",
    "    clockwise_graph[curr_cup] = last_cup_old_connection\n",
    "    \n",
    "#     print(\"Cycles: \", {key+1: value+1 for key, value in clockwise_graph.items()})\n",
    "#     print(\"\")\n",
    "    \n",
    "    curr_cup = clockwise_graph[curr_cup]"
   ]
  },
  {
   "cell_type": "code",
   "execution_count": 4,
   "metadata": {},
   "outputs": [],
   "source": [
    "for _ in range(100):\n",
    "    single_turn()"
   ]
  },
  {
   "cell_type": "code",
   "execution_count": 5,
   "metadata": {},
   "outputs": [
    {
     "name": "stdout",
     "output_type": "stream",
     "text": [
      "4\n",
      "7\n",
      "5\n",
      "9\n",
      "8\n",
      "2\n",
      "6\n",
      "3\n",
      "1\n"
     ]
    }
   ],
   "source": [
    "start = 0\n",
    "for _ in range(len(cups)):\n",
    "    start = clockwise_graph[start]\n",
    "    print(start + 1)"
   ]
  },
  {
   "cell_type": "code",
   "execution_count": 6,
   "metadata": {},
   "outputs": [],
   "source": [
    "# Part 2"
   ]
  },
  {
   "cell_type": "code",
   "execution_count": 7,
   "metadata": {},
   "outputs": [],
   "source": [
    "cups = [1,2,3,4,8,7,5,9,6]\n",
    "# cups = [3,8,9,1,2,5,4,6,7]\n",
    "cups = [cup-1 for cup in cups]\n",
    "cups = cups + list(range(9, int(1e6)))\n",
    "clockwise_graph = {cup: cup_2 for cup, cup_2 in zip(cups, cups[1:] + cups[0:1])}\n",
    "curr_cup = cups[0]"
   ]
  },
  {
   "cell_type": "code",
   "execution_count": 8,
   "metadata": {},
   "outputs": [],
   "source": [
    "for _ in range(int(1e7)):\n",
    "    single_turn()"
   ]
  },
  {
   "cell_type": "code",
   "execution_count": 9,
   "metadata": {},
   "outputs": [
    {
     "data": {
      "text/plain": [
       "248009574232"
      ]
     },
     "execution_count": 9,
     "metadata": {},
     "output_type": "execute_result"
    }
   ],
   "source": [
    "first = clockwise_graph[0]\n",
    "second = clockwise_graph[first]\n",
    "(first+1) * (second+1)"
   ]
  }
 ],
 "metadata": {
  "kernelspec": {
   "display_name": "Python 3",
   "language": "python",
   "name": "python3"
  },
  "language_info": {
   "codemirror_mode": {
    "name": "ipython",
    "version": 3
   },
   "file_extension": ".py",
   "mimetype": "text/x-python",
   "name": "python",
   "nbconvert_exporter": "python",
   "pygments_lexer": "ipython3",
   "version": "3.7.9"
  }
 },
 "nbformat": 4,
 "nbformat_minor": 4
}
