{
 "cells": [
  {
   "cell_type": "code",
   "execution_count": 2,
   "metadata": {},
   "outputs": [],
   "source": [
    "import numpy as np\n",
    "with open(\"data.txt\") as file:\n",
    "    inputs = [int(input_.strip()) for input_ in file.readlines()]"
   ]
  },
  {
   "cell_type": "code",
   "execution_count": 9,
   "metadata": {},
   "outputs": [],
   "source": [
    "# part 1"
   ]
  },
  {
   "cell_type": "code",
   "execution_count": 10,
   "metadata": {},
   "outputs": [
    {
     "name": "stdout",
     "output_type": "stream",
     "text": [
      "26796446\n"
     ]
    }
   ],
   "source": [
    "for i in range(25, len(inputs)):\n",
    "    input_ = np.array(inputs[i-25:i])\n",
    "    sums_ = input_.reshape(-1, 1) + input_.reshape(1, -1)\n",
    "    sums_[np.arange(0, 25), np.arange(0, 25)] = -1\n",
    "    if not (sums_ == inputs[i]).sum():\n",
    "        print(inputs[i])"
   ]
  },
  {
   "cell_type": "code",
   "execution_count": null,
   "metadata": {},
   "outputs": [],
   "source": [
    "# part 2"
   ]
  },
  {
   "cell_type": "code",
   "execution_count": 11,
   "metadata": {},
   "outputs": [
    {
     "name": "stdout",
     "output_type": "stream",
     "text": [
      "3353494\n"
     ]
    }
   ],
   "source": [
    "window_sizes = range(2, len(inputs))\n",
    "for window_size in window_sizes:\n",
    "    for i in range(len(inputs)-window_size):\n",
    "        window = inputs[i:i+window_size]\n",
    "        value = sum(window)\n",
    "        if value == 26796446:\n",
    "            print(min(window) + max(window))\n",
    "    "
   ]
  },
  {
   "cell_type": "code",
   "execution_count": null,
   "metadata": {},
   "outputs": [],
   "source": [
    "    import numpy as np\n",
    "    with open(\"data.txt\") as file:\n",
    "        inputs = [int(input_.strip()) for input_ in file.readlines()]\n",
    "    for i in range(25, len(inputs)):\n",
    "        input_ = np.array(inputs[i-25:i])\n",
    "        sums_ = input_.reshape(-1, 1) + input_.reshape(1, -1)\n",
    "        sums_[np.arange(0, 25), np.arange(0, 25)] = -1\n",
    "        if not (sums_ == inputs[i]).sum():\n",
    "            print(inputs[i])"
   ]
  }
 ],
 "metadata": {
  "kernelspec": {
   "display_name": "Python 3",
   "language": "python",
   "name": "python3"
  },
  "language_info": {
   "codemirror_mode": {
    "name": "ipython",
    "version": 3
   },
   "file_extension": ".py",
   "mimetype": "text/x-python",
   "name": "python",
   "nbconvert_exporter": "python",
   "pygments_lexer": "ipython3",
   "version": "3.7.9"
  }
 },
 "nbformat": 4,
 "nbformat_minor": 4
}
