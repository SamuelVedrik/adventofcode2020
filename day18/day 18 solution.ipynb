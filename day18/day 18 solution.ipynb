{
 "cells": [
  {
   "cell_type": "code",
   "execution_count": 26,
   "metadata": {
    "hideCode": false,
    "hidePrompt": false
   },
   "outputs": [],
   "source": [
    "import re\n",
    "import queue\n",
    "from tqdm.auto import tqdm\n",
    "with open(\"data.txt\") as file:\n",
    "    inputs = [input_.strip().replace(\" \", \"\") for input_ in file.readlines()]"
   ]
  },
  {
   "cell_type": "code",
   "execution_count": 27,
   "metadata": {
    "hideCode": false,
    "hidePrompt": false
   },
   "outputs": [],
   "source": [
    "def get_first_level_brackets(equation):\n",
    "    bracket_queue = queue.LifoQueue()\n",
    "    outside = None\n",
    "    \n",
    "    bracket_pairs = []\n",
    "    for i, char in enumerate(equation):\n",
    "        if char == \"(\":\n",
    "            bracket_queue.put(i)\n",
    "            if outside is None:\n",
    "                outside = i\n",
    "                \n",
    "        elif char == \")\":\n",
    "            end = bracket_queue.get_nowait()\n",
    "            if bracket_queue.empty():\n",
    "                bracket_pairs.append((outside+1, i))\n",
    "                outside = None\n",
    "            \n",
    "    return bracket_pairs\n",
    "    "
   ]
  },
  {
   "cell_type": "code",
   "execution_count": 28,
   "metadata": {},
   "outputs": [],
   "source": [
    "def compute_equation(equation):\n",
    "    \"\"\"\n",
    "    No brackets do deal with\n",
    "    \"\"\"\n",
    "    curr_num = \"\"\n",
    "    operation = None\n",
    "    total = 0\n",
    "    for char in equation:\n",
    "        if char.isnumeric():\n",
    "            curr_num += char\n",
    "        else: # operation\n",
    "            if operation:\n",
    "                if operation == \"+\":\n",
    "                    total += int(curr_num)\n",
    "                else:\n",
    "                    total *= int(curr_num)\n",
    "            else:\n",
    "                total = int(curr_num)\n",
    "            operation = char\n",
    "            curr_num = \"\"\n",
    "    # Do the final operation\n",
    "    if operation == \"+\":\n",
    "        total += int(curr_num)\n",
    "    else:\n",
    "        total *= int(curr_num)\n",
    "        \n",
    "    return total"
   ]
  },
  {
   "cell_type": "code",
   "execution_count": 29,
   "metadata": {
    "hideCode": false,
    "hidePrompt": false
   },
   "outputs": [],
   "source": [
    "def calculate_equation(equation):\n",
    "    subequations = get_first_level_brackets(equation)\n",
    "    subequation_answers = {sub: calculate_equation(equation[sub[0]:sub[1]]) for sub in subequations}\n",
    "    new_equation = \"\"\n",
    "    for i, char in enumerate(equation):\n",
    "        if any([i == sub[0]-1 for sub in subequations]):\n",
    "            new_equation += str(subequation_answers[[sub for sub in subequations if sub[0]-1 == i][0]])\n",
    "        elif not any([sub[0]<=i<=sub[1] for sub in subequations]):\n",
    "            new_equation += char\n",
    "    \n",
    "    return compute_equation(new_equation)"
   ]
  },
  {
   "cell_type": "code",
   "execution_count": 31,
   "metadata": {},
   "outputs": [
    {
     "data": {
      "text/plain": [
       "25190263477788"
      ]
     },
     "execution_count": 31,
     "metadata": {},
     "output_type": "execute_result"
    }
   ],
   "source": [
    "sum([calculate_equation(input_) for input_ in inputs])"
   ]
  },
  {
   "cell_type": "code",
   "execution_count": 32,
   "metadata": {},
   "outputs": [],
   "source": [
    "# For part 2, just have to change compute equation"
   ]
  },
  {
   "cell_type": "code",
   "execution_count": 36,
   "metadata": {},
   "outputs": [],
   "source": [
    "def compute_equation(equation):\n",
    "    sub_equations = [eval(statement) for statement in equation.split(\"*\")]\n",
    "    total = 1\n",
    "    for sub in sub_equations:\n",
    "        total *= sub\n",
    "    return total"
   ]
  },
  {
   "cell_type": "code",
   "execution_count": 37,
   "metadata": {},
   "outputs": [
    {
     "data": {
      "text/plain": [
       "297139939002972"
      ]
     },
     "execution_count": 37,
     "metadata": {},
     "output_type": "execute_result"
    }
   ],
   "source": [
    "sum([calculate_equation(input_) for input_ in inputs])"
   ]
  },
  {
   "cell_type": "code",
   "execution_count": null,
   "metadata": {},
   "outputs": [],
   "source": []
  }
 ],
 "metadata": {
  "hide_code_all_hidden": false,
  "kernelspec": {
   "display_name": "Python 3",
   "language": "python",
   "name": "python3"
  },
  "language_info": {
   "codemirror_mode": {
    "name": "ipython",
    "version": 3
   },
   "file_extension": ".py",
   "mimetype": "text/x-python",
   "name": "python",
   "nbconvert_exporter": "python",
   "pygments_lexer": "ipython3",
   "version": "3.7.9"
  }
 },
 "nbformat": 4,
 "nbformat_minor": 4
}
