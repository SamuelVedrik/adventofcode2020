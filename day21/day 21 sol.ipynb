{
 "cells": [
  {
   "cell_type": "code",
   "execution_count": 12,
   "metadata": {},
   "outputs": [],
   "source": [
    "import re\n",
    "with open(\"data.txt\") as file:\n",
    "    inputs = [input_.strip() for input_ in file.readlines()]"
   ]
  },
  {
   "cell_type": "code",
   "execution_count": 13,
   "metadata": {},
   "outputs": [],
   "source": [
    "allergens = set()\n",
    "ingredients = set()\n",
    "for input_ in inputs:\n",
    "    curr_allergens = re.findall(\"\\(.+\\)\", input_)[0].strip(\"()\").split(\" \")[1:]\n",
    "    curr_allergens = [curr_allergen.replace(\",\", \"\") for curr_allergen in curr_allergens]\n",
    "    allergens = allergens.union(curr_allergens)\n",
    "    curr_ingredients = input_.split(\"(\")[0].split(\" \")[:-1]\n",
    "    ingredients = ingredients.union(curr_ingredients)"
   ]
  },
  {
   "cell_type": "code",
   "execution_count": 14,
   "metadata": {},
   "outputs": [],
   "source": [
    "allergen_to_possible = {allergen: ingredients for allergen in allergens}\n",
    "for input_ in inputs:\n",
    "    curr_allergens = re.findall(\"\\(.+\\)\", input_)[0].strip(\"()\").split(\" \")[1:]\n",
    "    curr_allergens = [curr_allergen.replace(\",\", \"\") for curr_allergen in curr_allergens]\n",
    "    curr_ingredients = input_.split(\"(\")[0].split(\" \")[:-1]\n",
    "    \n",
    "    for allergen in curr_allergens:\n",
    "        allergen_to_possible[allergen] = allergen_to_possible[allergen].intersection(curr_ingredients)"
   ]
  },
  {
   "cell_type": "code",
   "execution_count": 15,
   "metadata": {},
   "outputs": [],
   "source": [
    "all_allergen_in = set()\n",
    "for set_ in allergen_to_possible.values():\n",
    "    all_allergen_in = all_allergen_in.union(set_)"
   ]
  },
  {
   "cell_type": "code",
   "execution_count": 16,
   "metadata": {},
   "outputs": [],
   "source": [
    "non_allergen = ingredients - all_allergen_in"
   ]
  },
  {
   "cell_type": "code",
   "execution_count": 17,
   "metadata": {},
   "outputs": [],
   "source": [
    "total = 0\n",
    "for input_ in inputs:\n",
    "    curr_ingredients = input_.split(\"(\")[0].split(\" \")[:-1]\n",
    "    for ingredient in curr_ingredients:\n",
    "        if ingredient in non_allergen:\n",
    "            total += 1\n",
    "        \n",
    "    "
   ]
  },
  {
   "cell_type": "code",
   "execution_count": 18,
   "metadata": {},
   "outputs": [
    {
     "data": {
      "text/plain": [
       "2176"
      ]
     },
     "execution_count": 18,
     "metadata": {},
     "output_type": "execute_result"
    }
   ],
   "source": [
    "total"
   ]
  },
  {
   "cell_type": "code",
   "execution_count": 19,
   "metadata": {},
   "outputs": [],
   "source": [
    "import constraint\n",
    "problem = constraint.Problem()\n",
    "for allergen in allergen_to_possible:\n",
    "    problem.addVariable(allergen, list(allergen_to_possible[allergen]))\n",
    "    \n",
    "problem.addConstraint(constraint.AllDifferentConstraint())"
   ]
  },
  {
   "cell_type": "code",
   "execution_count": 20,
   "metadata": {},
   "outputs": [
    {
     "data": {
      "text/plain": [
       "[{'peanuts': 'gzvsg',\n",
       "  'nuts': 'tr',\n",
       "  'eggs': 'xblchx',\n",
       "  'dairy': 'lvv',\n",
       "  'sesame': 'jlsqx',\n",
       "  'soy': 'pmz',\n",
       "  'wheat': 'csqc',\n",
       "  'shellfish': 'fnntr'}]"
      ]
     },
     "execution_count": 20,
     "metadata": {},
     "output_type": "execute_result"
    }
   ],
   "source": [
    "problem.getSolutions()"
   ]
  }
 ],
 "metadata": {
  "kernelspec": {
   "display_name": "Python 3",
   "language": "python",
   "name": "python3"
  },
  "language_info": {
   "codemirror_mode": {
    "name": "ipython",
    "version": 3
   },
   "file_extension": ".py",
   "mimetype": "text/x-python",
   "name": "python",
   "nbconvert_exporter": "python",
   "pygments_lexer": "ipython3",
   "version": "3.7.9"
  }
 },
 "nbformat": 4,
 "nbformat_minor": 4
}
