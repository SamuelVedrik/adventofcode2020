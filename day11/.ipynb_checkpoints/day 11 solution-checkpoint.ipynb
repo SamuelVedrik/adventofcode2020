{
 "cells": [
  {
   "cell_type": "code",
   "execution_count": null,
   "metadata": {},
   "outputs": [],
   "source": [
    "# Pretty slow part 1. I don't know why I decided to convert the input into sets...\n",
    "# Anyways, it's not pretty."
   ]
  },
  {
   "cell_type": "code",
   "execution_count": 246,
   "metadata": {
    "hidePrompt": true
   },
   "outputs": [],
   "source": [
    "with open(\"data.txt\") as file:\n",
    "    inputs = [input_.strip() for input_ in file.readlines()]"
   ]
  },
  {
   "cell_type": "code",
   "execution_count": 247,
   "metadata": {},
   "outputs": [],
   "source": [
    "def get_sets(inputs):\n",
    "    seats_occupied = set()\n",
    "    seats_empty = set()\n",
    "    floor = set()\n",
    "\n",
    "    for i in range(len(inputs)):\n",
    "        seats_occupied = seats_occupied.union([(i, j) for j, seat in enumerate(inputs[i]) if seat == \"#\"])\n",
    "        seats_empty = seats_empty.union([(i, j) for j, seat in enumerate(inputs[i]) if seat == \"L\"])\n",
    "        floor =  floor.union([(i, j) for j, seat in enumerate(inputs[i]) if seat == \".\"])\n",
    "    \n",
    "    return seats_occupied, seats_empty, floor"
   ]
  },
  {
   "cell_type": "code",
   "execution_count": 248,
   "metadata": {},
   "outputs": [],
   "source": [
    "def is_out_of_bounds(seat):\n",
    "    i, j = seat\n",
    "    return i < 0 or i >= len(inputs) or j < 0 or j >= len(inputs[0])\n",
    "\n",
    "def is_floor(seat, floor):\n",
    "    return seat in floor\n",
    "\n",
    "\n",
    "def is_seat(seat, floor):\n",
    "    return not (is_out_of_bounds(seat) or is_floor(seat, floor))\n",
    "    "
   ]
  },
  {
   "cell_type": "code",
   "execution_count": 252,
   "metadata": {},
   "outputs": [],
   "source": [
    "memo = {}\n",
    "\n",
    "def get_new_state(curr_state):\n",
    "    seats_occupied = set()\n",
    "    seats_empty = set()\n",
    "    prev_occupied, prev_empty, floor = curr_state\n",
    "    \n",
    "    for seat in prev_occupied:\n",
    "        # Memoization\n",
    "        if seat not in memo:\n",
    "            adjacent_seats = [(seat[0]+i, seat[1]+j) for i in range(-1, 2) \n",
    "                             for j in range(-1, 2) if not i == j == 0]\n",
    "            adjacent_seats = [seat for seat in adjacent_seats if is_seat(seat, floor)]\n",
    "            memo[seat] = adjacent_seats\n",
    "            \n",
    "        adjacent_seats = memo[seat]\n",
    "        occupied_adjacent_seats = [seat for seat in adjacent_seats if seat in prev_occupied]\n",
    "        \n",
    "        if len(occupied_adjacent_seats) >= 4:\n",
    "            seats_empty = seats_empty.union([seat])\n",
    "        else:\n",
    "            seats_occupied = seats_occupied.union([seat])\n",
    "           \n",
    "    for seat in prev_empty:\n",
    "        # Memoization\n",
    "        if seat not in memo:\n",
    "            adjacent_seats = [(seat[0]+i, seat[1]+j) for i in range(-1, 2) \n",
    "                             for j in range(-1, 2) if not i == j == 0]\n",
    "            adjacent_seats = [seat for seat in adjacent_seats if is_seat(seat, floor)]\n",
    "            memo[seat] = adjacent_seats\n",
    "            \n",
    "            \n",
    "        adjacent_seats = memo[seat]\n",
    "        occupied_adjacent_seats = [seat for seat in adjacent_seats if seat in prev_occupied]\n",
    "        \n",
    "      \n",
    "        if len(occupied_adjacent_seats) == 0:\n",
    "            seats_occupied = seats_occupied.union([seat])\n",
    "        else:\n",
    "            seats_empty= seats_empty.union([seat])\n",
    "    \n",
    "    \n",
    "    return seats_occupied, seats_empty, floor\n",
    "    "
   ]
  },
  {
   "cell_type": "code",
   "execution_count": 253,
   "metadata": {},
   "outputs": [],
   "source": [
    "curr_state = get_sets(inputs)\n",
    "prev_state = None\n",
    "while curr_state != prev_state:\n",
    "    prev_state = curr_state\n",
    "    curr_state = get_new_state(curr_state)\n",
    "    "
   ]
  },
  {
   "cell_type": "code",
   "execution_count": 254,
   "metadata": {},
   "outputs": [
    {
     "data": {
      "text/plain": [
       "2324"
      ]
     },
     "execution_count": 254,
     "metadata": {},
     "output_type": "execute_result"
    }
   ],
   "source": [
    "len(curr_state[0])"
   ]
  },
  {
   "cell_type": "code",
   "execution_count": 245,
   "metadata": {},
   "outputs": [],
   "source": [
    "# Part 2"
   ]
  },
  {
   "cell_type": "code",
   "execution_count": 256,
   "metadata": {},
   "outputs": [],
   "source": [
    "def get_vision_direction(seat, floor, delta_i, delta_j):\n",
    "    curr = seat[0] + delta_i, seat[1] + delta_j\n",
    "    \n",
    "    while not is_seat(curr, floor):\n",
    "        if is_out_of_bounds(curr):\n",
    "            return 0\n",
    "        curr = curr[0] + delta_i, curr[1] + delta_j\n",
    "    \n",
    "    return curr\n",
    "\n",
    "def get_vision(seat, floor):\n",
    "    vision = [get_vision_direction(seat, floor, i, j) for i in range(-1, 2) for j in range(-1, 2) \\\n",
    "              if not i == j == 0]\n",
    "    vision = [seat for seat in vision if seat]\n",
    "    return vision"
   ]
  },
  {
   "cell_type": "code",
   "execution_count": 257,
   "metadata": {},
   "outputs": [],
   "source": [
    "memo = {}\n",
    "\n",
    "def get_new_state(curr_state):\n",
    "    seats_occupied = set()\n",
    "    seats_empty = set()\n",
    "    prev_occupied, prev_empty, floor = curr_state\n",
    "    \n",
    "    for seat in prev_occupied:\n",
    "        # Memoization\n",
    "        if seat not in memo:\n",
    "            vision = get_vision(seat, floor)\n",
    "            memo[seat] = vision\n",
    "            \n",
    "        vision = memo[seat]\n",
    "        occupied_vision_seats = [seat for seat in vision if seat in prev_occupied]\n",
    "        \n",
    "        if len(occupied_vision_seats) >= 5:\n",
    "            seats_empty = seats_empty.union([seat])\n",
    "        else:\n",
    "            seats_occupied = seats_occupied.union([seat])\n",
    "           \n",
    "    for seat in prev_empty:\n",
    "        # Memoization\n",
    "        # Memoization\n",
    "        if seat not in memo:\n",
    "            vision = get_vision(seat, floor)\n",
    "            memo[seat] = vision\n",
    "            \n",
    "        vision = memo[seat]\n",
    "        occupied_vision_seats = [seat for seat in vision if seat in prev_occupied]\n",
    "      \n",
    "    \n",
    "        if len(occupied_vision_seats) == 0:\n",
    "            seats_occupied = seats_occupied.union([seat])\n",
    "        else:\n",
    "            seats_empty= seats_empty.union([seat])\n",
    "    \n",
    "    \n",
    "    return seats_occupied, seats_empty, floor\n",
    "    "
   ]
  },
  {
   "cell_type": "code",
   "execution_count": 258,
   "metadata": {},
   "outputs": [],
   "source": [
    "curr_state = get_sets(inputs)\n",
    "prev_state = None\n",
    "while curr_state != prev_state:\n",
    "    prev_state = curr_state\n",
    "    curr_state = get_new_state(curr_state)\n",
    "    "
   ]
  },
  {
   "cell_type": "code",
   "execution_count": 259,
   "metadata": {},
   "outputs": [
    {
     "data": {
      "text/plain": [
       "2068"
      ]
     },
     "execution_count": 259,
     "metadata": {},
     "output_type": "execute_result"
    }
   ],
   "source": [
    "len(curr_state[0])"
   ]
  },
  {
   "cell_type": "code",
   "execution_count": null,
   "metadata": {},
   "outputs": [],
   "source": []
  }
 ],
 "metadata": {
  "kernelspec": {
   "display_name": "Python 3",
   "language": "python",
   "name": "python3"
  },
  "language_info": {
   "codemirror_mode": {
    "name": "ipython",
    "version": 3
   },
   "file_extension": ".py",
   "mimetype": "text/x-python",
   "name": "python",
   "nbconvert_exporter": "python",
   "pygments_lexer": "ipython3",
   "version": "3.7.9"
  }
 },
 "nbformat": 4,
 "nbformat_minor": 4
}
