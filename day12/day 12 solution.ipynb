{
 "cells": [
  {
   "cell_type": "code",
   "execution_count": 1,
   "metadata": {},
   "outputs": [],
   "source": [
    "import re\n",
    "with open(\"data.txt\") as file:\n",
    "    inputs = [input_.strip() for input_ in file.readlines()]"
   ]
  },
  {
   "cell_type": "code",
   "execution_count": 2,
   "metadata": {},
   "outputs": [],
   "source": [
    "direction = 0 \n",
    "# 0: East\n",
    "# 1: South\n",
    "# 2: West\n",
    "# 3: North\n",
    "curr_pos = (0, 0)\n"
   ]
  },
  {
   "cell_type": "code",
   "execution_count": 3,
   "metadata": {},
   "outputs": [],
   "source": [
    "direction_key = {\n",
    "    0: \"E\",\n",
    "    1: \"S\",\n",
    "    2: \"W\", \n",
    "    3: \"N\"\n",
    "}"
   ]
  },
  {
   "cell_type": "code",
   "execution_count": 4,
   "metadata": {},
   "outputs": [],
   "source": [
    "def move_direction(direction, curr_pos, value):\n",
    "    \n",
    "    if direction == \"N\":\n",
    "        curr_pos = curr_pos[0], curr_pos[1] + value\n",
    "    elif direction == \"S\":\n",
    "        curr_pos = curr_pos[0], curr_pos[1] - value\n",
    "    elif direction == \"E\":\n",
    "        curr_pos = curr_pos[0] - value, curr_pos[1]\n",
    "    elif direction == \"W\":\n",
    "        curr_pos = curr_pos[0] + value, curr_pos[1]\n",
    "    \n",
    "    return curr_pos"
   ]
  },
  {
   "cell_type": "code",
   "execution_count": 5,
   "metadata": {},
   "outputs": [],
   "source": [
    "for input_ in inputs:\n",
    "    command = re.findall(\"[A-Z]\", input_)[0]\n",
    "    value = int(re.findall(\"\\d+\", input_)[0])\n",
    "    \n",
    "    if command == \"L\":\n",
    "        change = value // 90\n",
    "        direction = (direction - change) % 4\n",
    "    elif command == \"R\":\n",
    "        change = value // 90\n",
    "        direction = (direction + change) % 4\n",
    "    elif command == \"F\":\n",
    "        command = direction_key[direction]\n",
    "        curr_pos = move_direction(command, curr_pos, value)\n",
    "    else:\n",
    "        curr_pos = move_direction(command, curr_pos, value)        "
   ]
  },
  {
   "cell_type": "code",
   "execution_count": 6,
   "metadata": {},
   "outputs": [
    {
     "data": {
      "text/plain": [
       "1482"
      ]
     },
     "execution_count": 6,
     "metadata": {},
     "output_type": "execute_result"
    }
   ],
   "source": [
    "sum([abs(x) for x in curr_pos])"
   ]
  },
  {
   "cell_type": "code",
   "execution_count": 7,
   "metadata": {},
   "outputs": [],
   "source": [
    "# Part 2: It was at this point I realized I'm going to be dealing with vectors. "
   ]
  },
  {
   "cell_type": "code",
   "execution_count": 8,
   "metadata": {},
   "outputs": [],
   "source": [
    "import numpy as np"
   ]
  },
  {
   "cell_type": "code",
   "execution_count": 9,
   "metadata": {},
   "outputs": [],
   "source": [
    "counter_clockwise = np.array([[0, 1], [-1, 0]])\n",
    "clockwise = np.array([[0, -1], [1, 0]])"
   ]
  },
  {
   "cell_type": "code",
   "execution_count": 10,
   "metadata": {},
   "outputs": [],
   "source": [
    "direction = np.array([10, 1])\n",
    "curr_pos = np.array([0, 0])"
   ]
  },
  {
   "cell_type": "code",
   "execution_count": 11,
   "metadata": {},
   "outputs": [],
   "source": [
    "def move_waypoint(direction, command, value):\n",
    "    if command == \"N\":\n",
    "        direction[1] = direction[1] + value\n",
    "    elif command == \"W\":\n",
    "        direction[0] = direction[0] - value\n",
    "    elif command == \"S\":\n",
    "        direction[1] = direction[1] - value\n",
    "    else:\n",
    "        direction[0] = direction[0] + value\n",
    "        "
   ]
  },
  {
   "cell_type": "code",
   "execution_count": 12,
   "metadata": {},
   "outputs": [],
   "source": [
    "for input_ in inputs:\n",
    "    command = re.findall(\"[A-Z]\", input_)[0]\n",
    "    value = int(re.findall(\"\\d+\", input_)[0])\n",
    "    \n",
    "    if command == \"L\":\n",
    "        change = value // 90\n",
    "        for _ in range(change):\n",
    "            direction = direction @ counter_clockwise\n",
    "    elif command == \"R\":\n",
    "        change = value // 90\n",
    "        for _ in range(change):\n",
    "            direction = direction @ clockwise\n",
    "            \n",
    "    elif command == \"F\":\n",
    "        curr_pos = curr_pos + (value*direction)\n",
    "    else:\n",
    "        move_waypoint(direction, command, value)"
   ]
  },
  {
   "cell_type": "code",
   "execution_count": 13,
   "metadata": {},
   "outputs": [
    {
     "data": {
      "text/plain": [
       "array([ -1329, -47410])"
      ]
     },
     "execution_count": 13,
     "metadata": {},
     "output_type": "execute_result"
    }
   ],
   "source": [
    "curr_pos"
   ]
  },
  {
   "cell_type": "code",
   "execution_count": 14,
   "metadata": {},
   "outputs": [
    {
     "data": {
      "text/plain": [
       "48739"
      ]
     },
     "execution_count": 14,
     "metadata": {},
     "output_type": "execute_result"
    }
   ],
   "source": [
    "sum([abs(x) for x in curr_pos])"
   ]
  },
  {
   "cell_type": "code",
   "execution_count": 15,
   "metadata": {},
   "outputs": [],
   "source": [
    "x = 0 + 0j"
   ]
  },
  {
   "cell_type": "code",
   "execution_count": null,
   "metadata": {},
   "outputs": [],
   "source": []
  }
 ],
 "metadata": {
  "kernelspec": {
   "display_name": "Python 3",
   "language": "python",
   "name": "python3"
  },
  "language_info": {
   "codemirror_mode": {
    "name": "ipython",
    "version": 3
   },
   "file_extension": ".py",
   "mimetype": "text/x-python",
   "name": "python",
   "nbconvert_exporter": "python",
   "pygments_lexer": "ipython3",
   "version": "3.7.9"
  }
 },
 "nbformat": 4,
 "nbformat_minor": 4
}
