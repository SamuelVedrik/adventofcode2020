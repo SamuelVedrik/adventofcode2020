{
 "cells": [
  {
   "cell_type": "code",
   "execution_count": 18,
   "metadata": {},
   "outputs": [],
   "source": [
    "with open(\"data.txt\") as file:\n",
    "    inputs = file.readlines()"
   ]
  },
  {
   "cell_type": "code",
   "execution_count": 19,
   "metadata": {},
   "outputs": [
    {
     "data": {
      "text/plain": [
       "'4-5 m: mmpth\\n'"
      ]
     },
     "execution_count": 19,
     "metadata": {},
     "output_type": "execute_result"
    }
   ],
   "source": [
    "inputs[0]"
   ]
  },
  {
   "cell_type": "code",
   "execution_count": 23,
   "metadata": {},
   "outputs": [],
   "source": [
    "num_valid = 0\n",
    "for input_ in inputs: \n",
    "    number, letter, password = input_.strip().split(\" \")\n",
    "    letter = letter[0]\n",
    "    min_, max_ = number.split(\"-\")\n",
    "    num_letter = 0\n",
    "    for char_ in password:\n",
    "        # Adds 1 to num_letter if the character matches the letter we want.\n",
    "        num_letter += char_ == letter\n",
    "        \n",
    "    # Adds 1 to num_valid if the number of letters in the password falls between the given range. \n",
    "    num_valid += int(min_) <= num_letter <= int(max_)\n",
    "    "
   ]
  },
  {
   "cell_type": "code",
   "execution_count": 24,
   "metadata": {},
   "outputs": [
    {
     "data": {
      "text/plain": [
       "591"
      ]
     },
     "execution_count": 24,
     "metadata": {},
     "output_type": "execute_result"
    }
   ],
   "source": [
    "num_valid"
   ]
  },
  {
   "cell_type": "code",
   "execution_count": 25,
   "metadata": {},
   "outputs": [],
   "source": [
    "# part 2"
   ]
  },
  {
   "cell_type": "code",
   "execution_count": 26,
   "metadata": {},
   "outputs": [],
   "source": [
    "num_valid = 0\n",
    "for input_ in inputs:\n",
    "    number, letter, password = input_.strip().split(\" \")\n",
    "    letter = letter[0]\n",
    "    idx1, idx2 = number.split(\"-\")\n",
    "    \n",
    "    num_match = 0 \n",
    "    # Adds 1 if the letter at idx matches the letter. \n",
    "    num_match += (password[int(idx1)-1] == letter)\n",
    "    num_match += (password[int(idx2)-1] == letter)\n",
    "    \n",
    "    num_valid += (num_match == 1)"
   ]
  },
  {
   "cell_type": "code",
   "execution_count": 27,
   "metadata": {},
   "outputs": [
    {
     "data": {
      "text/plain": [
       "335"
      ]
     },
     "execution_count": 27,
     "metadata": {},
     "output_type": "execute_result"
    }
   ],
   "source": [
    "num_valid"
   ]
  }
 ],
 "metadata": {
  "kernelspec": {
   "display_name": "Python 3",
   "language": "python",
   "name": "python3"
  },
  "language_info": {
   "codemirror_mode": {
    "name": "ipython",
    "version": 3
   },
   "file_extension": ".py",
   "mimetype": "text/x-python",
   "name": "python",
   "nbconvert_exporter": "python",
   "pygments_lexer": "ipython3",
   "version": "3.7.9"
  }
 },
 "nbformat": 4,
 "nbformat_minor": 4
}
