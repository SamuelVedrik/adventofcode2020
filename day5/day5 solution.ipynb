{
 "cells": [
  {
   "cell_type": "code",
   "execution_count": 1,
   "metadata": {},
   "outputs": [],
   "source": [
    "import re\n",
    "import math\n",
    "with open(\"data.txt\") as file:\n",
    "    inputs = [input_.strip() for input_ in file.readlines()]"
   ]
  },
  {
   "cell_type": "code",
   "execution_count": 2,
   "metadata": {},
   "outputs": [],
   "source": [
    "def get_pos(input_, regex, lower_char, upper_char, lower, upper):\n",
    "    input_ = re.findall(regex, input_)[0]\n",
    "    for char in input_:\n",
    "        mid = (lower + upper) / 2\n",
    "        if char == lower_char:\n",
    "            upper = math.floor(mid)\n",
    "        else: \n",
    "            lower = math.ceil(mid)\n",
    "    return lower"
   ]
  },
  {
   "cell_type": "code",
   "execution_count": 3,
   "metadata": {},
   "outputs": [],
   "source": [
    "ids = []\n",
    "for input_ in inputs:\n",
    "    row = get_pos(input_, \"[FB]+\", \"F\", \"B\", 0, 127)\n",
    "    col = get_pos(input_, \"[LR]+\", \"L\", \"R\", 0, 7)\n",
    "    ids.append((8*row) + col)"
   ]
  },
  {
   "cell_type": "code",
   "execution_count": 4,
   "metadata": {},
   "outputs": [
    {
     "data": {
      "text/plain": [
       "806"
      ]
     },
     "execution_count": 4,
     "metadata": {},
     "output_type": "execute_result"
    }
   ],
   "source": [
    "max(ids)"
   ]
  },
  {
   "cell_type": "code",
   "execution_count": 5,
   "metadata": {},
   "outputs": [
    {
     "data": {
      "text/plain": [
       "{562}"
      ]
     },
     "execution_count": 5,
     "metadata": {},
     "output_type": "execute_result"
    }
   ],
   "source": [
    "set(range(min(ids), max(ids)+1)) - set(ids)"
   ]
  }
 ],
 "metadata": {
  "kernelspec": {
   "display_name": "Python 3",
   "language": "python",
   "name": "python3"
  },
  "language_info": {
   "codemirror_mode": {
    "name": "ipython",
    "version": 3
   },
   "file_extension": ".py",
   "mimetype": "text/x-python",
   "name": "python",
   "nbconvert_exporter": "python",
   "pygments_lexer": "ipython3",
   "version": "3.7.9"
  }
 },
 "nbformat": 4,
 "nbformat_minor": 4
}
