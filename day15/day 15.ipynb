{
 "cells": [
  {
   "cell_type": "code",
   "execution_count": 1,
   "metadata": {},
   "outputs": [],
   "source": [
    "# No need for data.txt here. \n",
    "from tqdm.auto import tqdm\n",
    "first_nums = [19,0,5,1,10,13]"
   ]
  },
  {
   "cell_type": "code",
   "execution_count": null,
   "metadata": {},
   "outputs": [
    {
     "data": {
      "application/vnd.jupyter.widget-view+json": {
       "model_id": "1533f680d1dc42cc9da9cedc5bd54531",
       "version_major": 2,
       "version_minor": 0
      },
      "text/plain": [
       "HBox(children=(FloatProgress(value=0.0, max=29999994.0), HTML(value='')))"
      ]
     },
     "metadata": {},
     "output_type": "display_data"
    }
   ],
   "source": [
    "num_to_turns = {num: [i+1] for i, num in enumerate(first_nums)}\n",
    "last_spoken = first_nums[-1]\n",
    "curr = None\n",
    "for i in tqdm(range(len(first_nums)+1, 30000001)): #2021 for part 1\n",
    "    if last_spoken not in num_to_turns: \n",
    "        curr = 0\n",
    "    elif len(num_to_turns[last_spoken]) == 1:\n",
    "        curr = 0\n",
    "    else:\n",
    "        curr = num_to_turns[last_spoken][-1] - num_to_turns[last_spoken][-2]\n",
    "     \n",
    "    if curr not in num_to_turns:\n",
    "        num_to_turns[curr] = []\n",
    "    num_to_turns[curr].append(i)\n",
    "    if len(num_to_turns[curr]) > 2:\n",
    "        num_to_turns[curr] = num_to_turns[curr][-2:]\n",
    "    last_spoken = curr"
   ]
  },
  {
   "cell_type": "code",
   "execution_count": null,
   "metadata": {},
   "outputs": [],
   "source": []
  }
 ],
 "metadata": {
  "kernelspec": {
   "display_name": "Python 3",
   "language": "python",
   "name": "python3"
  },
  "language_info": {
   "codemirror_mode": {
    "name": "ipython",
    "version": 3
   },
   "file_extension": ".py",
   "mimetype": "text/x-python",
   "name": "python",
   "nbconvert_exporter": "python",
   "pygments_lexer": "ipython3",
   "version": "3.7.9"
  }
 },
 "nbformat": 4,
 "nbformat_minor": 4
}
