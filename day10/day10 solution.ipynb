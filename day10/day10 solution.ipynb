{
 "cells": [
  {
   "cell_type": "code",
   "execution_count": 17,
   "metadata": {},
   "outputs": [],
   "source": [
    "with open(\"data.txt\") as file:\n",
    "    inputs = [int(input_.strip()) for input_ in file.readlines()]"
   ]
  },
  {
   "cell_type": "code",
   "execution_count": 18,
   "metadata": {},
   "outputs": [],
   "source": [
    "inputs = [0] + sorted(inputs) + [max(inputs)+3]"
   ]
  },
  {
   "cell_type": "code",
   "execution_count": 19,
   "metadata": {},
   "outputs": [],
   "source": [
    "differences = {}\n",
    "for i in range(len(inputs)-1):\n",
    "    difference = inputs[i+1] - inputs[i]\n",
    "    if difference not in differences:\n",
    "        differences[difference] = 0\n",
    "    differences[difference] += 1"
   ]
  },
  {
   "cell_type": "code",
   "execution_count": 20,
   "metadata": {},
   "outputs": [
    {
     "data": {
      "text/plain": [
       "2232"
      ]
     },
     "execution_count": 20,
     "metadata": {},
     "output_type": "execute_result"
    }
   ],
   "source": [
    "differences[3] * differences[1]"
   ]
  },
  {
   "cell_type": "code",
   "execution_count": 22,
   "metadata": {},
   "outputs": [],
   "source": [
    "num_can_remove = 0\n",
    "for i in range(len(inputs)-2):\n",
    "    difference = inputs[i+2] - inputs[i]\n",
    "    if difference <= 3:\n",
    "        num_can_remove += 1\n"
   ]
  },
  {
   "cell_type": "code",
   "execution_count": 26,
   "metadata": {},
   "outputs": [],
   "source": [
    "connections = {}\n",
    "for i in range(len(inputs)-1):\n",
    "    check_connections = inputs[i+1:max(i+4, len(inputs))]\n",
    "    connections[inputs[i]] = [connection for connection in check_connections if connection - inputs[i] <=3]"
   ]
  },
  {
   "cell_type": "code",
   "execution_count": 44,
   "metadata": {},
   "outputs": [],
   "source": [
    "memo = {}\n",
    "def get_num_paths(node):\n",
    "    if node == inputs[-1]:\n",
    "        return 0\n",
    "    else:\n",
    "        if node not in memo:\n",
    "            memo[node] = sum([get_num_paths(node) for node in connections[node]]) + (inputs[-1] in connections[node])\n",
    "        return memo[node]"
   ]
  },
  {
   "cell_type": "code",
   "execution_count": 45,
   "metadata": {},
   "outputs": [
    {
     "data": {
      "text/plain": [
       "173625106649344"
      ]
     },
     "execution_count": 45,
     "metadata": {},
     "output_type": "execute_result"
    }
   ],
   "source": [
    "get_num_paths(0)"
   ]
  },
  {
   "cell_type": "code",
   "execution_count": 33,
   "metadata": {},
   "outputs": [],
   "source": [
    "can_remove = set()\n",
    "for connection in connections:\n",
    "    "
   ]
  },
  {
   "cell_type": "code",
   "execution_count": 37,
   "metadata": {},
   "outputs": [
    {
     "data": {
      "text/plain": [
       "{0: [1, 2, 3],\n",
       " 1: [2, 3],\n",
       " 2: [3],\n",
       " 3: [6],\n",
       " 6: [9],\n",
       " 9: [10, 11, 12],\n",
       " 10: [11, 12, 13],\n",
       " 11: [12, 13],\n",
       " 12: [13],\n",
       " 13: [16],\n",
       " 16: [17, 18, 19],\n",
       " 17: [18, 19, 20],\n",
       " 18: [19, 20],\n",
       " 19: [20],\n",
       " 20: [23],\n",
       " 23: [24, 25, 26],\n",
       " 24: [25, 26, 27],\n",
       " 25: [26, 27],\n",
       " 26: [27],\n",
       " 27: [30],\n",
       " 30: [31, 32, 33],\n",
       " 31: [32, 33],\n",
       " 32: [33],\n",
       " 33: [36],\n",
       " 36: [37, 38, 39],\n",
       " 37: [38, 39, 40],\n",
       " 38: [39, 40],\n",
       " 39: [40],\n",
       " 40: [43],\n",
       " 43: [44, 45, 46],\n",
       " 44: [45, 46, 47],\n",
       " 45: [46, 47],\n",
       " 46: [47],\n",
       " 47: [50],\n",
       " 50: [51],\n",
       " 51: [54],\n",
       " 54: [55, 56],\n",
       " 55: [56],\n",
       " 56: [59],\n",
       " 59: [62],\n",
       " 62: [63, 64, 65],\n",
       " 63: [64, 65, 66],\n",
       " 64: [65, 66],\n",
       " 65: [66],\n",
       " 66: [69],\n",
       " 69: [72],\n",
       " 72: [73, 74, 75],\n",
       " 73: [74, 75, 76],\n",
       " 74: [75, 76],\n",
       " 75: [76],\n",
       " 76: [79],\n",
       " 79: [80, 81, 82],\n",
       " 80: [81, 82, 83],\n",
       " 81: [82, 83],\n",
       " 82: [83],\n",
       " 83: [86],\n",
       " 86: [89],\n",
       " 89: [90, 91],\n",
       " 90: [91],\n",
       " 91: [94],\n",
       " 94: [97],\n",
       " 97: [98, 99, 100],\n",
       " 98: [99, 100, 101],\n",
       " 99: [100, 101],\n",
       " 100: [101],\n",
       " 101: [104],\n",
       " 104: [107],\n",
       " 107: [110],\n",
       " 110: [111, 112, 113],\n",
       " 111: [112, 113, 114],\n",
       " 112: [113, 114],\n",
       " 113: [114],\n",
       " 114: [117],\n",
       " 117: [118],\n",
       " 118: [121],\n",
       " 121: [122, 123, 124],\n",
       " 122: [123, 124, 125],\n",
       " 123: [124, 125],\n",
       " 124: [125],\n",
       " 125: [128],\n",
       " 128: [129, 130, 131],\n",
       " 129: [130, 131, 132],\n",
       " 130: [131, 132],\n",
       " 131: [132],\n",
       " 132: [135],\n",
       " 135: [136, 137, 138],\n",
       " 136: [137, 138, 139],\n",
       " 137: [138, 139],\n",
       " 138: [139],\n",
       " 139: [142],\n",
       " 142: [145],\n",
       " 145: [146],\n",
       " 146: [149],\n",
       " 149: [152],\n",
       " 152: [153, 154, 155],\n",
       " 153: [154, 155],\n",
       " 154: [155],\n",
       " 155: [158],\n",
       " 158: [159, 160, 161],\n",
       " 159: [160, 161, 162],\n",
       " 160: [161, 162],\n",
       " 161: [162],\n",
       " 162: [165]}"
      ]
     },
     "execution_count": 37,
     "metadata": {},
     "output_type": "execute_result"
    }
   ],
   "source": [
    "connections"
   ]
  },
  {
   "cell_type": "code",
   "execution_count": null,
   "metadata": {},
   "outputs": [],
   "source": []
  }
 ],
 "metadata": {
  "kernelspec": {
   "display_name": "Python 3",
   "language": "python",
   "name": "python3"
  },
  "language_info": {
   "codemirror_mode": {
    "name": "ipython",
    "version": 3
   },
   "file_extension": ".py",
   "mimetype": "text/x-python",
   "name": "python",
   "nbconvert_exporter": "python",
   "pygments_lexer": "ipython3",
   "version": "3.7.9"
  }
 },
 "nbformat": 4,
 "nbformat_minor": 4
}
