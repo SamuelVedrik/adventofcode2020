{
 "cells": [
  {
   "cell_type": "code",
   "execution_count": 9,
   "metadata": {},
   "outputs": [],
   "source": [
    "import re\n",
    "#part 1\n",
    "with open(\"data.txt\") as file:\n",
    "    inputs = \"\".join(file.readlines()).split(\"\\n\\n\")\n",
    "    inputs = [input_.replace(\"\\n\", \"\") for input_ in inputs ]"
   ]
  },
  {
   "cell_type": "code",
   "execution_count": 10,
   "metadata": {},
   "outputs": [],
   "source": [
    "sum_ = 0 \n",
    "for input_ in inputs:\n",
    "    sum_ += len(set(input_))"
   ]
  },
  {
   "cell_type": "code",
   "execution_count": 12,
   "metadata": {},
   "outputs": [
    {
     "data": {
      "text/plain": [
       "7110"
      ]
     },
     "execution_count": 12,
     "metadata": {},
     "output_type": "execute_result"
    }
   ],
   "source": [
    "sum_"
   ]
  },
  {
   "cell_type": "code",
   "execution_count": 15,
   "metadata": {},
   "outputs": [],
   "source": [
    "# part 2\n",
    "with open(\"data.txt\") as file:\n",
    "    inputs = \"\".join(file.readlines()).split(\"\\n\\n\")\n",
    "    inputs = [input_.split(\"\\n\") for input_ in inputs]"
   ]
  },
  {
   "cell_type": "code",
   "execution_count": 20,
   "metadata": {},
   "outputs": [],
   "source": [
    "sum_ = 0 \n",
    "for input_ in inputs:\n",
    "    sets = []\n",
    "    for person in input_:\n",
    "        sets.append(set(person))\n",
    "    intersection = sets[0]\n",
    "    \n",
    "    for set_ in sets[1:]:\n",
    "        intersection = set_.intersection(intersection)\n",
    "    sum_ += len(intersection)\n",
    "        "
   ]
  },
  {
   "cell_type": "code",
   "execution_count": 22,
   "metadata": {},
   "outputs": [
    {
     "data": {
      "text/plain": [
       "3628"
      ]
     },
     "execution_count": 22,
     "metadata": {},
     "output_type": "execute_result"
    }
   ],
   "source": [
    "sum_"
   ]
  },
  {
   "cell_type": "code",
   "execution_count": null,
   "metadata": {},
   "outputs": [],
   "source": []
  }
 ],
 "metadata": {
  "kernelspec": {
   "display_name": "Python 3",
   "language": "python",
   "name": "python3"
  },
  "language_info": {
   "codemirror_mode": {
    "name": "ipython",
    "version": 3
   },
   "file_extension": ".py",
   "mimetype": "text/x-python",
   "name": "python",
   "nbconvert_exporter": "python",
   "pygments_lexer": "ipython3",
   "version": "3.7.9"
  }
 },
 "nbformat": 4,
 "nbformat_minor": 4
}
