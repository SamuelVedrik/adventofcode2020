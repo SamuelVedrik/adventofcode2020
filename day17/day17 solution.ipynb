{
 "cells": [
  {
   "cell_type": "code",
   "execution_count": 1,
   "metadata": {},
   "outputs": [],
   "source": [
    "# Part 1: Holy hell this was hard."
   ]
  },
  {
   "cell_type": "code",
   "execution_count": 35,
   "metadata": {},
   "outputs": [],
   "source": [
    "import numpy as np\n",
    "import itertools\n",
    "inputs = \"\"\"##..#.#.\n",
    "#####.##\n",
    "#######.\n",
    "#..#..#.\n",
    "#.#...##\n",
    "..#....#\n",
    "....#..#\n",
    "..##.#..\"\"\".split(\"\\n\")"
   ]
  },
  {
   "cell_type": "code",
   "execution_count": 36,
   "metadata": {},
   "outputs": [],
   "source": [
    "slice_ = np.stack([[char for char in input_] for input_ in inputs])"
   ]
  },
  {
   "cell_type": "code",
   "execution_count": 4,
   "metadata": {},
   "outputs": [],
   "source": [
    "z_to_slice = {0: slice_}"
   ]
  },
  {
   "cell_type": "code",
   "execution_count": 5,
   "metadata": {},
   "outputs": [],
   "source": [
    "def update_layer(z):\n",
    "    prev, next_ = z-1, z+1\n",
    "    curr_z = z_to_slice[z]\n",
    "    padded_z = np.pad(curr_z, 1, constant_values=\".\")\n",
    "    new_z = padded_z.copy()\n",
    "    \n",
    "    if z == min(z_to_slice.keys()):\n",
    "        prev_slice = np.full(curr_z.shape, \".\")\n",
    "    else:\n",
    "        prev_slice = z_to_slice[prev]\n",
    "        \n",
    "    if z == max(z_to_slice.keys()):\n",
    "        next_slice = np.full(curr_z.shape, \".\")\n",
    "    else:\n",
    "        next_slice = z_to_slice[next_]\n",
    "        \n",
    "    \n",
    "    prev_slice = np.pad(prev_slice, 1, constant_values=\".\")\n",
    "    next_slice = np.pad(next_slice, 1, constant_values=\".\")\n",
    "    \n",
    "    for row in range(padded_z.shape[0]):\n",
    "        for col in range(padded_z.shape[1]): \n",
    "            \n",
    "            # Helps deal with edges    \n",
    "            row_is_zero = row == 0\n",
    "            row_is_last = row == padded_z.shape[0]-1 \n",
    "            col_is_zero = col == 0\n",
    "            col_is_last = col == padded_z.shape[1]-1\n",
    "\n",
    "            num_active_this = np.sum(padded_z[row-(not row_is_zero):row+1+(not row_is_last), \n",
    "                                              col-(not col_is_zero): col+1+(not col_is_last)] == \"#\") \\\n",
    "                                - (padded_z[row][col] == \"#\")\n",
    "\n",
    "            num_active_prev =  np.sum(prev_slice[row-(not row_is_zero):row+1+(not row_is_last), \n",
    "                                               col-(not col_is_zero): col+1+(not col_is_last)] == \"#\")\n",
    "            num_active_next =  np.sum(next_slice[row-(not row_is_zero):row+1+(not row_is_last), \n",
    "                                                 col-(not col_is_zero): col+1+(not col_is_last)] == \"#\")\n",
    "            \n",
    "            \n",
    "            total_active = num_active_this + num_active_prev + num_active_next  \n",
    "            if padded_z[row][col] == \"#\":\n",
    "                if total_active == 2 or total_active ==3:\n",
    "                    new_z[row][col] = \"#\"\n",
    "                else:\n",
    "                    new_z[row][col] = \".\"\n",
    "            else:\n",
    "                if total_active == 3:\n",
    "                    new_z[row][col] = \"#\"\n",
    "                else:\n",
    "                    new_z[row][col] = \".\"\n",
    "    return new_z"
   ]
  },
  {
   "cell_type": "code",
   "execution_count": 6,
   "metadata": {},
   "outputs": [],
   "source": [
    "for _ in range(6):\n",
    "    new_min, new_max = min(z_to_slice.keys())-1, max(z_to_slice.keys())+1\n",
    "    \n",
    "    z_to_slice[new_min] = np.full(z_to_slice[0].shape, \".\")\n",
    "    z_to_slice[new_max] = np.full(z_to_slice[0].shape, \".\")\n",
    "    new_z_to_slice = {z: update_layer(z) for z in z_to_slice}\n",
    "    z_to_slice = new_z_to_slice"
   ]
  },
  {
   "cell_type": "code",
   "execution_count": 7,
   "metadata": {},
   "outputs": [
    {
     "data": {
      "text/plain": [
       "112"
      ]
     },
     "execution_count": 7,
     "metadata": {},
     "output_type": "execute_result"
    }
   ],
   "source": [
    "total_active = 0\n",
    "for z in z_to_slice:\n",
    "    total_active += np.sum(z_to_slice[z] == \"#\")\n",
    "\n",
    "total_active"
   ]
  },
  {
   "cell_type": "code",
   "execution_count": 19,
   "metadata": {},
   "outputs": [],
   "source": [
    "# Part 2 Jesus christ wow"
   ]
  },
  {
   "cell_type": "code",
   "execution_count": 37,
   "metadata": {},
   "outputs": [],
   "source": [
    "z_w_to_slice = {(0, 0): slice_}"
   ]
  },
  {
   "cell_type": "code",
   "execution_count": 38,
   "metadata": {},
   "outputs": [],
   "source": [
    "def update_layer(z, w):\n",
    "    curr_slice = z_w_to_slice[(z, w)]\n",
    "    padded_slice = np.pad(curr_slice, 1, constant_values=\".\")\n",
    "    new_slice = padded_slice.copy()\n",
    "    for row in range(padded_slice.shape[0]):\n",
    "        for col in range(padded_slice.shape[1]):\n",
    "            \n",
    "            # Deal with the edges\n",
    "            row_is_zero = row == 0\n",
    "            row_is_last = row == padded_slice.shape[0]-1 \n",
    "            col_is_zero = col == 0\n",
    "            col_is_last = col == padded_slice.shape[1]-1\n",
    "            \n",
    "            # Direction to go in z, w\n",
    "            neighbor_slices = itertools.product([-1, 0, 1], repeat=2)\n",
    "            neighbors_active = 0\n",
    "            for dz, dw in neighbor_slices:\n",
    "                try: \n",
    "                    padded_neighbor = np.pad(z_w_to_slice[(z+dz, w+dw)], 1, constant_values=\".\")\n",
    "                except:\n",
    "                    padded_neighbor = np.full(padded_slice.shape, \".\")\n",
    "                \n",
    "                neighbors_active += np.sum(padded_neighbor[row-(not row_is_zero):row+1+(not row_is_last), \n",
    "                                     col-(not col_is_zero): col+1+(not col_is_last)] == \"#\")\n",
    "                \n",
    "            neighbors_active -= padded_slice[row][col] == \"#\"\n",
    "            if padded_slice[row][col] == \"#\":\n",
    "                if neighbors_active == 2 or neighbors_active == 3:\n",
    "                    new_slice[row][col] = \"#\"\n",
    "                else:\n",
    "                    new_slice[row][col] = \".\"\n",
    "            \n",
    "            else:\n",
    "                if neighbors_active == 3:\n",
    "                    new_slice[row][col] = \"#\"\n",
    "                else:\n",
    "                    new_slice[row][col] = \".\"\n",
    "                    \n",
    "    return new_slice\n",
    "            \n",
    "\n",
    "    "
   ]
  },
  {
   "cell_type": "code",
   "execution_count": 39,
   "metadata": {},
   "outputs": [],
   "source": [
    "for _ in range(6):\n",
    "    z_min, w_min = min(z_w_to_slice.keys())\n",
    "    z_max, w_max = max(z_w_to_slice.keys())\n",
    "    \n",
    "\n",
    "    new_z_ws = itertools.product(range(z_min-1, z_max+2), repeat=2)\n",
    "    for z, w in new_z_ws:\n",
    "        if (z, w) not in z_w_to_slice:\n",
    "            z_w_to_slice[(z, w)] = np.full(z_w_to_slice[(0, 0)].shape, \".\")\n",
    "    \n",
    "    new_z_w_to_slice = {(z, w): update_layer(z, w) for z, w in z_w_to_slice}\n",
    "    z_w_to_slice = new_z_w_to_slice\n",
    "    "
   ]
  },
  {
   "cell_type": "code",
   "execution_count": 40,
   "metadata": {},
   "outputs": [],
   "source": [
    "total = 0\n",
    "for key in z_w_to_slice:\n",
    "    total +=  np.sum(z_w_to_slice[key] == \"#\")"
   ]
  },
  {
   "cell_type": "code",
   "execution_count": 41,
   "metadata": {},
   "outputs": [
    {
     "data": {
      "text/plain": [
       "1696"
      ]
     },
     "execution_count": 41,
     "metadata": {},
     "output_type": "execute_result"
    }
   ],
   "source": [
    "total"
   ]
  }
 ],
 "metadata": {
  "kernelspec": {
   "display_name": "Python 3",
   "language": "python",
   "name": "python3"
  },
  "language_info": {
   "codemirror_mode": {
    "name": "ipython",
    "version": 3
   },
   "file_extension": ".py",
   "mimetype": "text/x-python",
   "name": "python",
   "nbconvert_exporter": "python",
   "pygments_lexer": "ipython3",
   "version": "3.7.9"
  }
 },
 "nbformat": 4,
 "nbformat_minor": 4
}
