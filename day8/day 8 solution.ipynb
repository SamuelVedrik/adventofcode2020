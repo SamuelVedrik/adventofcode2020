{
 "cells": [
  {
   "cell_type": "code",
   "execution_count": 335,
   "metadata": {},
   "outputs": [],
   "source": [
    "with open(\"data.txt\") as file:\n",
    "    inputs = [input_.strip() for input_ in file.readlines()]"
   ]
  },
  {
   "cell_type": "code",
   "execution_count": 336,
   "metadata": {},
   "outputs": [],
   "source": [
    "curr = 0\n",
    "acc = 0\n",
    "visited = set()\n",
    "while True:\n",
    "    instruction, value = inputs[curr].split(\" \")\n",
    "    if instruction == \"acc\":\n",
    "        acc += int(value)\n",
    "        curr += 1\n",
    "    elif instruction == \"jmp\":\n",
    "        curr += int(value)\n",
    "    else:\n",
    "        curr += 1\n",
    "    if curr not in visited:\n",
    "        visited = visited.union([curr])\n",
    "    else:\n",
    "        break"
   ]
  },
  {
   "cell_type": "code",
   "execution_count": 337,
   "metadata": {},
   "outputs": [
    {
     "data": {
      "text/plain": [
       "2014"
      ]
     },
     "execution_count": 337,
     "metadata": {},
     "output_type": "execute_result"
    }
   ],
   "source": [
    "acc"
   ]
  },
  {
   "cell_type": "code",
   "execution_count": 351,
   "metadata": {},
   "outputs": [],
   "source": [
    "# part 2"
   ]
  },
  {
   "cell_type": "code",
   "execution_count": 363,
   "metadata": {},
   "outputs": [],
   "source": [
    "def booting_function(step, new_inputs):\n",
    "    \"\"\" \n",
    "    Returns the next step after this step is run.\n",
    "    \"\"\"\n",
    "    instruction, value = new_inputs[step].split(\" \")\n",
    "    if instruction == \"jmp\":\n",
    "        return step + int(value)\n",
    "    else:\n",
    "        return step + 1"
   ]
  },
  {
   "cell_type": "code",
   "execution_count": 364,
   "metadata": {},
   "outputs": [],
   "source": [
    "def cycle_checker(new_inputs):\n",
    "    f = lambda x: booting_function(x, new_inputs)\n",
    "    tortoise = f(0)\n",
    "    hare = f(f(0))\n",
    "    try:\n",
    "        while tortoise != hare:\n",
    "            tortoise = f(tortoise)\n",
    "            hare = f(f(hare))\n",
    "        return True\n",
    "    except:\n",
    "        return False"
   ]
  },
  {
   "cell_type": "code",
   "execution_count": 371,
   "metadata": {},
   "outputs": [],
   "source": [
    "def get_acc(new_inputs):\n",
    "    curr = 0\n",
    "    acc = 0\n",
    "    while curr != len(new_inputs):\n",
    "        instruction, value = new_inputs[curr].split(\" \")\n",
    "        if instruction == \"acc\":\n",
    "            acc += int(value)\n",
    "            curr += 1\n",
    "        elif instruction == \"jmp\":\n",
    "            curr += int(value)\n",
    "        else:\n",
    "            curr += 1\n",
    "    return acc"
   ]
  },
  {
   "cell_type": "code",
   "execution_count": 372,
   "metadata": {},
   "outputs": [],
   "source": [
    "jump_or_none_inputs = [i for i, input_ in enumerate(inputs) if \"acc\" not in input_]"
   ]
  },
  {
   "cell_type": "code",
   "execution_count": 373,
   "metadata": {},
   "outputs": [
    {
     "name": "stdout",
     "output_type": "stream",
     "text": [
      "2251\n"
     ]
    }
   ],
   "source": [
    "for idx in jump_or_none_inputs:\n",
    "    new_inputs = inputs.copy()\n",
    "    if \"jmp\" in new_inputs[idx]:\n",
    "        new_inputs[idx] = new_inputs[idx].replace(\"jmp\", \"nop\")\n",
    "    else:\n",
    "        new_inputs[idx] = new_inputs[idx].replace(\"nop\", \"jmp\")\n",
    "    if not cycle_checker(new_inputs):\n",
    "        print(get_acc(new_inputs))"
   ]
  }
 ],
 "metadata": {
  "kernelspec": {
   "display_name": "Python 3",
   "language": "python",
   "name": "python3"
  },
  "language_info": {
   "codemirror_mode": {
    "name": "ipython",
    "version": 3
   },
   "file_extension": ".py",
   "mimetype": "text/x-python",
   "name": "python",
   "nbconvert_exporter": "python",
   "pygments_lexer": "ipython3",
   "version": "3.7.9"
  }
 },
 "nbformat": 4,
 "nbformat_minor": 4
}
