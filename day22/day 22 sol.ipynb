{
 "cells": [
  {
   "cell_type": "code",
   "execution_count": 1,
   "metadata": {},
   "outputs": [],
   "source": [
    "with open(\"data.txt\") as file:\n",
    "    player_decks = file.read().split(\"\\n\\n\")"
   ]
  },
  {
   "cell_type": "code",
   "execution_count": 2,
   "metadata": {},
   "outputs": [],
   "source": [
    "player_1 = list(map(int, player_decks[0].split(\"\\n\")[1:]))\n",
    "player_2 = list(map(int, player_decks[1].split(\"\\n\")[1:]))"
   ]
  },
  {
   "cell_type": "code",
   "execution_count": 3,
   "metadata": {},
   "outputs": [],
   "source": [
    "while player_1 != [] and player_2 != []:\n",
    "    play_1 = player_1.pop(0)\n",
    "    play_2 = player_2.pop(0)\n",
    "    if play_1 < play_2: # Player 2 wins\n",
    "        player_2.append(play_2)\n",
    "        player_2.append(play_1)\n",
    "    elif play_1 > play_2: # Player 1 wins\n",
    "        player_1.append(play_1)\n",
    "        player_1.append(play_2)\n",
    "        "
   ]
  },
  {
   "cell_type": "code",
   "execution_count": 4,
   "metadata": {},
   "outputs": [
    {
     "data": {
      "text/plain": [
       "(True, False)"
      ]
     },
     "execution_count": 4,
     "metadata": {},
     "output_type": "execute_result"
    }
   ],
   "source": [
    "player_1 == [], player_2 == []"
   ]
  },
  {
   "cell_type": "code",
   "execution_count": 5,
   "metadata": {},
   "outputs": [
    {
     "data": {
      "text/plain": [
       "32033"
      ]
     },
     "execution_count": 5,
     "metadata": {},
     "output_type": "execute_result"
    }
   ],
   "source": [
    "total = 0\n",
    "for i, card in enumerate(player_2):\n",
    "    total += (len(player_2) - i)*card\n",
    "total"
   ]
  },
  {
   "cell_type": "code",
   "execution_count": 10,
   "metadata": {},
   "outputs": [],
   "source": [
    "# Part 2\n",
    "import functools"
   ]
  },
  {
   "cell_type": "code",
   "execution_count": 11,
   "metadata": {},
   "outputs": [],
   "source": [
    "# NAIVE PART 2\n",
    "player_1 = list(map(int, player_decks[0].split(\"\\n\")[1:]))\n",
    "player_2 = list(map(int, player_decks[1].split(\"\\n\")[1:]))\n",
    "round_ = 1\n",
    "played = []\n",
    "memo = {}\n",
    "\n",
    "def play_game(player_1_deck, player_2_deck, game):\n",
    "    \"\"\"\n",
    "    1: Player 1 wins\n",
    "    2: Player 2 wins\n",
    "    \"\"\"\n",
    "    played_before = frozenset()\n",
    "    global round_\n",
    "    curr_recur = 0\n",
    "    cache_memo = (tuple(player_1_deck), tuple(player_2_deck))\n",
    "    \n",
    "    if cache_memo in memo:\n",
    "#         print(\"Previous game found.\", cache_memo)\n",
    "        return memo[cache_memo]\n",
    "    \n",
    "    while player_1_deck != [] and player_2_deck != []:\n",
    "        cache_key = (tuple(player_1_deck), tuple(player_2_deck))\n",
    "        \n",
    "        if cache_key in played_before:\n",
    "            return 1, player_1_deck, curr_recur\n",
    "        \n",
    "        played_before = played_before.union([cache_key])\n",
    "\n",
    "        play_1 = player_1_deck.pop(0)\n",
    "        play_2 = player_2_deck.pop(0)\n",
    "\n",
    "        if play_1 <= len(player_1_deck) and play_2 <= len(player_2_deck):\n",
    "            player_1_copy = player_1_deck[:play_1].copy()\n",
    "            player_2_copy = player_2_deck[:play_2].copy()\n",
    "            cache_memo = (tuple(player_1_copy), tuple(player_2_copy))\n",
    "            curr_recur += 1\n",
    "#             print(f\"Recursing into game {game+curr_recur}, parent {game}: {player_1_copy} {player_2_copy}\\n\")\n",
    "            winner, winner_deck, recursions = play_game(player_1_copy, player_2_copy, game+curr_recur)\n",
    "            curr_recur += recursions\n",
    "        else:\n",
    "            if play_1 < play_2: \n",
    "                winner = 2\n",
    "            else:\n",
    "                winner = 1\n",
    "        \n",
    "        if winner == 1: # Player 1 Wins\n",
    "            player_1_deck.append(play_1)\n",
    "            player_1_deck.append(play_2)\n",
    "        else: # Player 2 wins\n",
    "            player_2_deck.append(play_2)\n",
    "            player_2_deck.append(play_1)\n",
    "            \n",
    "#         print(f\"Round {round_}, Game {game}: Player {winner} wins, {play_1} vs {play_2}\\n\"\n",
    "#         f\"P1: {player_1_deck}, P2: {player_2_deck}\")\n",
    "        \n",
    "        round_ += 1\n",
    "        \n",
    "    if player_1_deck != []: # Player 1 has won the game.\n",
    "        memo[cache_memo] = 1, player_1_deck, curr_recur\n",
    "        return 1, player_1_deck, curr_recur\n",
    "    else: # Player 2 has won the game\n",
    "        memo[cache_memo] = 2, player_2_deck, curr_recur\n",
    "        return 2, player_2_deck, curr_recur"
   ]
  },
  {
   "cell_type": "code",
   "execution_count": 12,
   "metadata": {},
   "outputs": [],
   "source": [
    "winner, deck, curr_recur = play_game(player_1, player_2, 1)"
   ]
  },
  {
   "cell_type": "code",
   "execution_count": 13,
   "metadata": {},
   "outputs": [
    {
     "data": {
      "text/plain": [
       "34901"
      ]
     },
     "execution_count": 13,
     "metadata": {},
     "output_type": "execute_result"
    }
   ],
   "source": [
    "total = 0\n",
    "for i, card in enumerate(deck):\n",
    "    total += (len(deck) - i)*card\n",
    "total"
   ]
  }
 ],
 "metadata": {
  "kernelspec": {
   "display_name": "Python 3",
   "language": "python",
   "name": "python3"
  },
  "language_info": {
   "codemirror_mode": {
    "name": "ipython",
    "version": 3
   },
   "file_extension": ".py",
   "mimetype": "text/x-python",
   "name": "python",
   "nbconvert_exporter": "python",
   "pygments_lexer": "ipython3",
   "version": "3.7.9"
  }
 },
 "nbformat": 4,
 "nbformat_minor": 4
}
