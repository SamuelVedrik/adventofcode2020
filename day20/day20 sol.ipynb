{
 "cells": [
  {
   "cell_type": "code",
   "execution_count": 1,
   "metadata": {
    "hideCode": false,
    "hidePrompt": false
   },
   "outputs": [],
   "source": [
    "import re\n",
    "import numpy as np\n",
    "import constraint\n",
    "with open(\"data.txt\") as file:\n",
    "    tiles = file.read().split(\"\\n\\n\")"
   ]
  },
  {
   "cell_type": "code",
   "execution_count": 2,
   "metadata": {
    "hideCode": false,
    "hidePrompt": false
   },
   "outputs": [],
   "source": [
    "class Tile:\n",
    "    \n",
    "    def __init__(self, id_, tile):\n",
    "        self.id_ = id_\n",
    "        self.tile = tile\n",
    "        \n",
    "    def get_all_possible_borders(self):\n",
    "        \n",
    "        top = self.tile[0, :]\n",
    "        right = self.tile[:, -1]\n",
    "        left = self.tile[:, 0]\n",
    "        bottom = self.tile[-1, :]\n",
    "        \n",
    "        top_rev = self.tile[0, :][::-1]\n",
    "        right_rev = self.tile[:, -1][::-1]\n",
    "        left_rev = self.tile[:, 0][::-1]\n",
    "        bottom_rev = self.tile[-1, :][::-1]\n",
    "        \n",
    "        return set(list(map(tuple, [top, right, left, bottom, top_rev, right_rev, left_rev, bottom_rev])))\n",
    "    \n",
    "    def transform(self, state):\n",
    "        rotation, hori, vert = state\n",
    "        result = np.rot90(self.tile, k=rotation)\n",
    "        if hori: \n",
    "            result = np.fliplr(result)\n",
    "        if vert: \n",
    "            result = np.flipud(result)\n",
    "            \n",
    "        return Tile(self.id_, result)\n",
    "    \n",
    "    def aligns(self, other_tile, on):\n",
    "        \"\"\"\n",
    "        On: this tile's relative position to the other tile: top, right, bottom, left\n",
    "        \"\"\"\n",
    "        if on == \"top\":\n",
    "            this_border = self.tile[-1, :] # Bottom \n",
    "            other_border = other_tile.tile[0, :] # Top\n",
    "        elif on == \"right\":\n",
    "            this_border = self.tile[:, 0] # Left\n",
    "            other_border = other_tile.tile[:, -1] # Right\n",
    "        elif on == \"bottom\":\n",
    "            this_border = self.tile[0, :] # Top\n",
    "            other_border = other_tile.tile[-1, :] # Bottom\n",
    "        else: # on == \"left\"\n",
    "            this_border = self.tile[:, -1] # Right\n",
    "            other_border = other_tile.tile[:, 0] # Left\n",
    "        \n",
    "        return all(this_border == other_border)\n",
    "    \n",
    "    def remove_borders(self):\n",
    "        return self.tile[1:-1, 1:-1]\n",
    "        \n",
    "    def __repr__(self):\n",
    "        return str(self.tile)"
   ]
  },
  {
   "cell_type": "code",
   "execution_count": 3,
   "metadata": {
    "hideCode": false,
    "hidePrompt": false
   },
   "outputs": [],
   "source": [
    "id_to_tile = {}\n",
    "for tile in tiles:\n",
    "    inputs = tile.strip().split(\"\\n\")\n",
    "    id_ = int(re.findall(\"\\d+\", inputs[0])[0])\n",
    "    id_to_tile[id_] = Tile(id_, np.array(list(map(list, inputs[1:]))))"
   ]
  },
  {
   "cell_type": "code",
   "execution_count": 4,
   "metadata": {
    "hideCode": false,
    "hidePrompt": false
   },
   "outputs": [],
   "source": [
    "id_to_shares = {}\n",
    "for id_ in id_to_tile:\n",
    "    shares = set()\n",
    "    curr_border = id_to_tile[id_].get_all_possible_borders()\n",
    "    \n",
    "    for id_other in id_to_tile:\n",
    "        if id_ != id_other:\n",
    "            other_border = id_to_tile[id_other].get_all_possible_borders()\n",
    "            if len(other_border.intersection(curr_border)) != 0:\n",
    "                shares = shares.union([id_other])\n",
    "    \n",
    "    id_to_shares[id_] = shares"
   ]
  },
  {
   "cell_type": "code",
   "execution_count": 5,
   "metadata": {
    "hideCode": false,
    "hidePrompt": false
   },
   "outputs": [],
   "source": [
    "total = 1\n",
    "# Just check for tiles that only share 2 borders. These must be corners.\n",
    "for id_ in id_to_shares:\n",
    "    if len(id_to_shares[id_]) == 2:\n",
    "        total *= id_"
   ]
  },
  {
   "cell_type": "code",
   "execution_count": 6,
   "metadata": {
    "hideCode": false,
    "hidePrompt": false
   },
   "outputs": [
    {
     "data": {
      "text/plain": [
       "23497974998093"
      ]
     },
     "execution_count": 6,
     "metadata": {},
     "output_type": "execute_result"
    }
   ],
   "source": [
    "total"
   ]
  },
  {
   "cell_type": "code",
   "execution_count": 7,
   "metadata": {},
   "outputs": [],
   "source": [
    "# Part 2\n",
    "import itertools"
   ]
  },
  {
   "cell_type": "code",
   "execution_count": 8,
   "metadata": {},
   "outputs": [],
   "source": [
    "len_to_edges = {2: [], 3: [], 4: []}\n",
    "for id_ in id_to_shares:\n",
    "    len_to_edges[len(id_to_shares[id_])].append(id_)"
   ]
  },
  {
   "cell_type": "code",
   "execution_count": 9,
   "metadata": {},
   "outputs": [],
   "source": [
    "locationProblem = constraint.Problem()\n",
    "x_max, y_max = 11, 11\n",
    "\n",
    "for position in itertools.product(range(12), repeat=2):\n",
    "    x, y = position\n",
    "    if (x, y) in itertools.product([0, 11], repeat=2):\n",
    "        locationProblem.addVariable(position, len_to_edges[2])\n",
    "    elif x == 0 or x == x_max or y == 0 or y == y_max:\n",
    "        locationProblem.addVariable(position, len_to_edges[3])\n",
    "    else:\n",
    "        locationProblem.addVariable(position, len_to_edges[4])"
   ]
  },
  {
   "cell_type": "code",
   "execution_count": 10,
   "metadata": {},
   "outputs": [],
   "source": [
    "def can_connect(tile_1, tile_2):\n",
    "    return tile_2 in id_to_shares[tile_1]"
   ]
  },
  {
   "cell_type": "code",
   "execution_count": 11,
   "metadata": {},
   "outputs": [],
   "source": [
    "def get_connections(position):\n",
    "    x, y = position\n",
    "    neighbors = []\n",
    "    if x != 0:\n",
    "        neighbors.append((x-1, y))\n",
    "    if x != x_max:\n",
    "        neighbors.append((x+1, y))\n",
    "    if y != 0:\n",
    "        neighbors.append((x, y-1))\n",
    "    if y != y_max:\n",
    "        neighbors.append((x, y+1))\n",
    "    \n",
    "    return neighbors\n",
    "    "
   ]
  },
  {
   "cell_type": "code",
   "execution_count": 12,
   "metadata": {},
   "outputs": [],
   "source": [
    "for position in itertools.product(range(12), repeat=2):\n",
    "    for connection in get_connections(position):\n",
    "        locationProblem.addConstraint(can_connect, [connection, position])\n",
    "        \n",
    "locationProblem.addConstraint(constraint.AllDifferentConstraint())"
   ]
  },
  {
   "cell_type": "code",
   "execution_count": 13,
   "metadata": {},
   "outputs": [],
   "source": [
    "pos_to_id = locationProblem.getSolution()\n",
    "id_to_pos = {id_: pos for pos, id_ in pos_to_id.items()}"
   ]
  },
  {
   "cell_type": "code",
   "execution_count": 14,
   "metadata": {},
   "outputs": [],
   "source": [
    "# set up another CSP with the configurations for each tile"
   ]
  },
  {
   "cell_type": "code",
   "execution_count": 15,
   "metadata": {},
   "outputs": [],
   "source": [
    "configProblem = constraint.Problem()\n",
    "for id_ in id_to_pos:\n",
    "    possible_configs = list(itertools.product([id_], [0, 1, 2, 3], [False, True], [False, True]))\n",
    "    configProblem.addVariable(id_, possible_configs)"
   ]
  },
  {
   "cell_type": "code",
   "execution_count": 16,
   "metadata": {},
   "outputs": [],
   "source": [
    "def get_relative(tile_1, tile_2):\n",
    "    \"\"\"\n",
    "    tile_1, tile_2 : their IDs\n",
    "    returns relative position of tile_1 to tile_2\n",
    "    \"\"\"\n",
    "    tile_1_pos = id_to_pos[tile_1]\n",
    "    tile_2_pos = id_to_pos[tile_2]\n",
    "    \n",
    "    if tile_1_pos[0] < tile_2_pos[0]: \n",
    "        return \"left\"\n",
    "    elif tile_1_pos[0] > tile_2_pos[0]:\n",
    "        return \"right\"\n",
    "    elif tile_1_pos[1] < tile_2_pos[1]:\n",
    "        return \"top\"\n",
    "    else: # tile_1_pos[1] > tile_2_pos[2]:\n",
    "        return \"bottom\"\n",
    "    \n",
    "def check_aligns(config_1, config_2):\n",
    "    tile_1, *tile_1_config = config_1\n",
    "    tile_2, *tile_2_config = config_2\n",
    "    on = get_relative(tile_1, tile_2)\n",
    "    \n",
    "    tile_1 = id_to_tile[tile_1]\n",
    "    tile_2 = id_to_tile[tile_2]\n",
    "    return tile_1.transform(tile_1_config).aligns(tile_2.transform(tile_2_config), on=on)\n",
    "    "
   ]
  },
  {
   "cell_type": "code",
   "execution_count": 17,
   "metadata": {},
   "outputs": [],
   "source": [
    "for id_ in id_to_pos:\n",
    "    curr_pos = id_to_pos[id_]\n",
    "    for connection in get_connections(curr_pos):\n",
    "        other_id = pos_to_id[connection]\n",
    "        configProblem.addConstraint(check_aligns, [id_, other_id])"
   ]
  },
  {
   "cell_type": "code",
   "execution_count": 18,
   "metadata": {},
   "outputs": [],
   "source": [
    "id_to_config = configProblem.getSolution()"
   ]
  },
  {
   "cell_type": "code",
   "execution_count": 19,
   "metadata": {},
   "outputs": [],
   "source": [
    "complete_image = None\n",
    "for x in range(12):\n",
    "    curr_col = None\n",
    "    for y in range(12):\n",
    "        tile_id = pos_to_id[(x, y)]\n",
    "        tile_id, *tile_config = id_to_config[tile_id]\n",
    "        tile = id_to_tile[tile_id].transform(tile_config).remove_borders()\n",
    "        if curr_col is None:\n",
    "            curr_col = tile\n",
    "        else:\n",
    "            curr_col = np.r_[curr_col, tile]\n",
    "    \n",
    "    if complete_image is None:\n",
    "        complete_image = curr_col\n",
    "    else:\n",
    "        complete_image = np.c_[complete_image, curr_col]\n",
    "        "
   ]
  },
  {
   "cell_type": "code",
   "execution_count": 20,
   "metadata": {},
   "outputs": [],
   "source": [
    "masked = np.where(complete_image == \".\", np.where(complete_image == \"#\", complete_image, 0), 1).astype(int)"
   ]
  },
  {
   "cell_type": "code",
   "execution_count": 21,
   "metadata": {},
   "outputs": [],
   "source": [
    "test_image = \\\n",
    "\"\"\".#.#..#.##...#.##..#####\n",
    "###....#.#....#..#......\n",
    "##.##.###.#.#..######...\n",
    "###.#####...#.#####.#..#\n",
    "##.#....#.##.####...#.##\n",
    "...########.#....#####.#\n",
    "....#..#...##..#.#.###..\n",
    ".####...#..#.....#......\n",
    "#..#.##..#..###.#.##....\n",
    "#.####..#.####.#.#.###..\n",
    "###.#.#...#.######.#..##\n",
    "#.####....##..########.#\n",
    "##..##.#...#...#.#.#.#..\n",
    "...#..#..#.#.##..###.###\n",
    ".#.#....#.##.#...###.##.\n",
    "###.#...#..#.##.######..\n",
    ".#.#.###.##.##.#..#.##..\n",
    ".####.###.#...###.#..#.#\n",
    "..#.#..#..#.#.#.####.###\n",
    "#..####...#.#.#.###.###.\n",
    "#####..#####...###....##\n",
    "#.##..#..#...#..####...#\n",
    ".#.###..##..##..####.##.\n",
    "...###...##...#...#..###\"\"\".split(\"\\n\")\n",
    "test_image = np.array(list(map(list, test_image)))\n",
    "masked_test = np.where(test_image== \".\", np.where(test_image == \"#\", test_image, 0), 1).astype(int)"
   ]
  },
  {
   "cell_type": "code",
   "execution_count": 22,
   "metadata": {},
   "outputs": [],
   "source": [
    "import scipy.ndimage\n",
    "\n",
    "dragon = \"\"\"                  # \n",
    "#    ##    ##    ###\n",
    " #  #  #  #  #  #   \n",
    "\"\"\".split(\"\\n\")\n",
    "dragon = np.array(list(map(list, dragon[:-1])))\n",
    "masked_dragon = np.where(dragon == \"#\", dragon, 0) # If not #, becomes 0\n",
    "masked_dragon = np.where(dragon == \" \", masked_dragon, 1) # If not 0, becomes 1\n",
    "masked_dragon = masked_dragon.astype(int)"
   ]
  },
  {
   "cell_type": "code",
   "execution_count": 23,
   "metadata": {},
   "outputs": [
    {
     "name": "stdout",
     "output_type": "stream",
     "text": [
      "2256\n"
     ]
    }
   ],
   "source": [
    "for flip in [True, False]:\n",
    "    for rot in [0, 1, 2, 3]:\n",
    "        if flip:\n",
    "            curr_image = np.fliplr(masked)\n",
    "        else:\n",
    "            curr_image = masked\n",
    "        curr_image = np.rot90(curr_image, k=rot)\n",
    "        num_dragons = (scipy.ndimage.correlate(curr_image, masked_dragon, mode=\"constant\", cval=0) == 15).sum()\n",
    "        if num_dragons > 0:\n",
    "            print(masked.sum() - (num_dragons * 15))"
   ]
  }
 ],
 "metadata": {
  "hide_code_all_hidden": false,
  "kernelspec": {
   "display_name": "Python 3",
   "language": "python",
   "name": "python3"
  },
  "language_info": {
   "codemirror_mode": {
    "name": "ipython",
    "version": 3
   },
   "file_extension": ".py",
   "mimetype": "text/x-python",
   "name": "python",
   "nbconvert_exporter": "python",
   "pygments_lexer": "ipython3",
   "version": "3.7.9"
  }
 },
 "nbformat": 4,
 "nbformat_minor": 4
}
