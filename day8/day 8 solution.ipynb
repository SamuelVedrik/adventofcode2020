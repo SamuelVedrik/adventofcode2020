{
 "cells": [
  {
   "cell_type": "code",
   "execution_count": 296,
   "metadata": {},
   "outputs": [],
   "source": [
    "with open(\"data.txt\") as file:\n",
    "    inputs = [input_.strip() for input_ in file.readlines()]"
   ]
  },
  {
   "cell_type": "code",
   "execution_count": 297,
   "metadata": {},
   "outputs": [],
   "source": [
    "curr = 0\n",
    "acc = 0\n",
    "visited = set()\n",
    "while True:\n",
    "    instruction, value = inputs[curr].split(\" \")\n",
    "    if instruction == \"acc\":\n",
    "        acc += int(value)\n",
    "        curr += 1\n",
    "    elif instruction == \"jmp\":\n",
    "        curr += int(value)\n",
    "    else:\n",
    "        curr += 1\n",
    "    if curr not in visited:\n",
    "        visited = visited.union([curr])\n",
    "    else:\n",
    "        break"
   ]
  },
  {
   "cell_type": "code",
   "execution_count": 298,
   "metadata": {},
   "outputs": [
    {
     "data": {
      "text/plain": [
       "2014"
      ]
     },
     "execution_count": 298,
     "metadata": {},
     "output_type": "execute_result"
    }
   ],
   "source": [
    "acc"
   ]
  },
  {
   "cell_type": "code",
   "execution_count": 299,
   "metadata": {},
   "outputs": [],
   "source": [
    "# part 2"
   ]
  },
  {
   "cell_type": "code",
   "execution_count": 327,
   "metadata": {},
   "outputs": [],
   "source": [
    "# Here I attempted to use cycle detection to see if I could remove the start and/or the last node in the cycle.\n",
    "# It didn't work out, so in the end I did it naively. "
   ]
  },
  {
   "cell_type": "code",
   "execution_count": 328,
   "metadata": {},
   "outputs": [],
   "source": [
    "def booting_function(step):\n",
    "    \"\"\" \n",
    "    Returns the next step after this step is run.\n",
    "    \"\"\"\n",
    "    instruction, value = inputs[step].split(\" \")\n",
    "    if instruction == \"jmp\":\n",
    "        return step + int(value)\n",
    "    else:\n",
    "        return step + 1"
   ]
  },
  {
   "cell_type": "code",
   "execution_count": 329,
   "metadata": {},
   "outputs": [],
   "source": [
    "# Using floyd's algorithm\n",
    "# This code is lifted off wikipedia https://en.wikipedia.org/wiki/Cycle_detection\n",
    "steps = []\n",
    "tortoise = booting_function(0)\n",
    "hare = booting_function(booting_function(0))\n",
    "while tortoise != hare:\n",
    "    tortoise = booting_function(tortoise)\n",
    "    hare = booting_function(booting_function(hare))\n",
    "    steps.append(tortoise)\n",
    "    \n",
    "mu = 0\n",
    "tortoise = 0\n",
    "while tortoise != hare:\n",
    "    tortoise = booting_function(tortoise)\n",
    "    hare = booting_function(hare)   # Hare and tortoise move at same speed\n",
    "    mu += 1\n",
    "    \n",
    "lam = 1\n",
    "hare = booting_function(tortoise)\n",
    "while tortoise != hare:\n",
    "    hare = booting_function(hare)\n",
    "    lam += 1"
   ]
  },
  {
   "cell_type": "code",
   "execution_count": 330,
   "metadata": {},
   "outputs": [
    {
     "data": {
      "text/plain": [
       "12"
      ]
     },
     "execution_count": 330,
     "metadata": {},
     "output_type": "execute_result"
    }
   ],
   "source": [
    "mu # steps it takes to reach the first node of the cycle"
   ]
  },
  {
   "cell_type": "code",
   "execution_count": 331,
   "metadata": {},
   "outputs": [
    {
     "data": {
      "text/plain": [
       "198"
      ]
     },
     "execution_count": 331,
     "metadata": {},
     "output_type": "execute_result"
    }
   ],
   "source": [
    "lam # steps it takes to complete one round of the cycle"
   ]
  },
  {
   "cell_type": "code",
   "execution_count": 332,
   "metadata": {},
   "outputs": [],
   "source": [
    "cycle_start = 0\n",
    "for _ in range(mu):\n",
    "    cycle_start = booting_function(cycle_start)"
   ]
  },
  {
   "cell_type": "code",
   "execution_count": 333,
   "metadata": {},
   "outputs": [],
   "source": [
    "nodes_visited = []\n",
    "curr = cycle_start\n",
    "for _ in range(lam):\n",
    "    curr = booting_function(curr)\n",
    "    nodes_visited.append(curr)"
   ]
  },
  {
   "cell_type": "code",
   "execution_count": 334,
   "metadata": {},
   "outputs": [
    {
     "data": {
      "text/plain": [
       "[375,\n",
       " 376,\n",
       " 377,\n",
       " 220,\n",
       " 221,\n",
       " 222,\n",
       " 223,\n",
       " 224,\n",
       " 347,\n",
       " 348,\n",
       " 349,\n",
       " 350,\n",
       " 328,\n",
       " 607,\n",
       " 608,\n",
       " 609,\n",
       " 45,\n",
       " 46,\n",
       " 47,\n",
       " 48,\n",
       " 302,\n",
       " 303,\n",
       " 493,\n",
       " 148,\n",
       " 149,\n",
       " 150,\n",
       " 151,\n",
       " 152,\n",
       " 102,\n",
       " 523,\n",
       " 524,\n",
       " 370,\n",
       " 615,\n",
       " 616,\n",
       " 617,\n",
       " 618,\n",
       " 619,\n",
       " 255,\n",
       " 256,\n",
       " 257,\n",
       " 258,\n",
       " 127,\n",
       " 128,\n",
       " 129,\n",
       " 130,\n",
       " 131,\n",
       " 322,\n",
       " 323,\n",
       " 324,\n",
       " 325,\n",
       " 73,\n",
       " 74,\n",
       " 567,\n",
       " 568,\n",
       " 569,\n",
       " 570,\n",
       " 240,\n",
       " 241,\n",
       " 420,\n",
       " 421,\n",
       " 422,\n",
       " 423,\n",
       " 135,\n",
       " 136,\n",
       " 137,\n",
       " 541,\n",
       " 542,\n",
       " 543,\n",
       " 544,\n",
       " 54,\n",
       " 55,\n",
       " 56,\n",
       " 308,\n",
       " 583,\n",
       " 584,\n",
       " 245,\n",
       " 246,\n",
       " 247,\n",
       " 248,\n",
       " 249,\n",
       " 208,\n",
       " 209,\n",
       " 279,\n",
       " 280,\n",
       " 281,\n",
       " 282,\n",
       " 283,\n",
       " 384,\n",
       " 385,\n",
       " 386,\n",
       " 80,\n",
       " 81,\n",
       " 38,\n",
       " 39,\n",
       " 40,\n",
       " 4,\n",
       " 477,\n",
       " 478,\n",
       " 479,\n",
       " 480,\n",
       " 481,\n",
       " 24,\n",
       " 25,\n",
       " 156,\n",
       " 157,\n",
       " 158,\n",
       " 159,\n",
       " 432,\n",
       " 577,\n",
       " 578,\n",
       " 579,\n",
       " 580,\n",
       " 397,\n",
       " 398,\n",
       " 399,\n",
       " 33,\n",
       " 61,\n",
       " 62,\n",
       " 262,\n",
       " 441,\n",
       " 442,\n",
       " 443,\n",
       " 444,\n",
       " 596,\n",
       " 597,\n",
       " 598,\n",
       " 599,\n",
       " 558,\n",
       " 513,\n",
       " 514,\n",
       " 515,\n",
       " 516,\n",
       " 412,\n",
       " 413,\n",
       " 414,\n",
       " 415,\n",
       " 416,\n",
       " 588,\n",
       " 201,\n",
       " 202,\n",
       " 212,\n",
       " 213,\n",
       " 214,\n",
       " 215,\n",
       " 380,\n",
       " 314,\n",
       " 315,\n",
       " 316,\n",
       " 353,\n",
       " 14,\n",
       " 15,\n",
       " 16,\n",
       " 17,\n",
       " 18,\n",
       " 483,\n",
       " 175,\n",
       " 176,\n",
       " 177,\n",
       " 178,\n",
       " 179,\n",
       " 426,\n",
       " 427,\n",
       " 428,\n",
       " 429,\n",
       " 330,\n",
       " 331,\n",
       " 332,\n",
       " 333,\n",
       " 534,\n",
       " 535,\n",
       " 536,\n",
       " 192,\n",
       " 193,\n",
       " 194,\n",
       " 195,\n",
       " 625,\n",
       " 626,\n",
       " 627,\n",
       " 628,\n",
       " 629,\n",
       " 93,\n",
       " 94,\n",
       " 95,\n",
       " 96,\n",
       " 97,\n",
       " 67,\n",
       " 68,\n",
       " 69,\n",
       " 70,\n",
       " 71,\n",
       " 273,\n",
       " 274,\n",
       " 275,\n",
       " 276,\n",
       " 277,\n",
       " 90,\n",
       " 91,\n",
       " 374]"
      ]
     },
     "execution_count": 334,
     "metadata": {},
     "output_type": "execute_result"
    }
   ],
   "source": [
    "nodes_visited"
   ]
  },
  {
   "cell_type": "code",
   "execution_count": 308,
   "metadata": {},
   "outputs": [],
   "source": [
    "# Very naive solution"
   ]
  },
  {
   "cell_type": "code",
   "execution_count": 309,
   "metadata": {},
   "outputs": [],
   "source": [
    "jump_or_none_inputs = [i for i, input_ in enumerate(inputs) if \"acc\" not in input_]"
   ]
  },
  {
   "cell_type": "code",
   "execution_count": 310,
   "metadata": {},
   "outputs": [],
   "source": [
    "def test_sol(idx):\n",
    "    new_inputs = inputs.copy()\n",
    "    if \"jmp\" in new_inputs[idx]:\n",
    "        new_inputs[idx] = new_inputs[idx].replace(\"jmp\", \"nop\")\n",
    "    else:\n",
    "        new_inputs[idx] = new_inputs[idx].replace(\"nop\", \"jmp\")\n",
    "    \n",
    "    curr = 0\n",
    "    acc = 0\n",
    "    visited = set()\n",
    "    while curr != len(new_inputs)-1:\n",
    "        instruction, value = new_inputs[curr].split(\" \")\n",
    "        if instruction == \"acc\":\n",
    "            acc += int(value)\n",
    "            curr += 1\n",
    "        elif instruction == \"jmp\":\n",
    "            curr += int(value)\n",
    "        else:\n",
    "            curr += 1\n",
    "        if curr not in visited:\n",
    "            visited = visited.union([curr])\n",
    "        else:\n",
    "            break\n",
    "    if max(visited) != len(new_inputs)-1:\n",
    "        return None\n",
    "    else:\n",
    "        print(sorted(list(visited)))\n",
    "        return acc"
   ]
  },
  {
   "cell_type": "code",
   "execution_count": 311,
   "metadata": {},
   "outputs": [
    {
     "name": "stdout",
     "output_type": "stream",
     "text": [
      "[1, 2, 4, 14, 15, 16, 17, 18, 24, 25, 28, 29, 33, 38, 39, 40, 45, 46, 47, 48, 54, 55, 56, 61, 62, 67, 68, 69, 70, 71, 73, 74, 80, 81, 93, 94, 95, 96, 97, 102, 107, 108, 110, 119, 120, 121, 122, 123, 127, 128, 129, 130, 131, 135, 136, 137, 148, 149, 150, 151, 152, 156, 157, 158, 159, 169, 170, 171, 172, 175, 176, 177, 178, 179, 185, 186, 187, 192, 193, 194, 195, 201, 202, 208, 209, 212, 213, 214, 215, 220, 221, 222, 223, 224, 240, 241, 245, 246, 247, 248, 249, 255, 256, 257, 258, 262, 273, 274, 275, 276, 277, 278, 279, 280, 281, 282, 283, 289, 290, 291, 292, 293, 302, 303, 308, 314, 315, 316, 322, 323, 324, 325, 328, 330, 331, 332, 333, 347, 348, 349, 350, 353, 370, 374, 375, 376, 377, 380, 384, 385, 386, 397, 398, 399, 412, 413, 414, 415, 416, 420, 421, 422, 423, 426, 427, 428, 429, 432, 438, 439, 441, 442, 443, 444, 477, 478, 479, 480, 481, 483, 493, 513, 514, 515, 516, 520, 521, 523, 524, 534, 535, 536, 541, 542, 543, 544, 558, 567, 568, 569, 570, 577, 578, 579, 580, 583, 584, 588, 592, 596, 597, 598, 599, 607, 608, 609, 615, 616, 617, 618, 619, 625, 626, 627, 628, 629, 633, 634, 635, 636, 637]\n",
      "2251 277\n"
     ]
    }
   ],
   "source": [
    "for idx in jump_or_none_inputs:\n",
    "    result = test_sol(idx)\n",
    "    if result:\n",
    "        print(result, idx)"
   ]
  },
  {
   "cell_type": "code",
   "execution_count": null,
   "metadata": {},
   "outputs": [],
   "source": []
  }
 ],
 "metadata": {
  "kernelspec": {
   "display_name": "Python 3",
   "language": "python",
   "name": "python3"
  },
  "language_info": {
   "codemirror_mode": {
    "name": "ipython",
    "version": 3
   },
   "file_extension": ".py",
   "mimetype": "text/x-python",
   "name": "python",
   "nbconvert_exporter": "python",
   "pygments_lexer": "ipython3",
   "version": "3.7.9"
  }
 },
 "nbformat": 4,
 "nbformat_minor": 4
}
