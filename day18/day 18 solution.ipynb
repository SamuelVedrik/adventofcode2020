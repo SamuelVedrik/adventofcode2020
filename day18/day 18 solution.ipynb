{
 "cells": [
  {
   "cell_type": "code",
   "execution_count": 1,
   "metadata": {
    "hideCode": false,
    "hidePrompt": false
   },
   "outputs": [],
   "source": [
    "import re\n",
    "import queue\n",
    "from tqdm.auto import tqdm\n",
    "with open(\"data.txt\") as file:\n",
    "    inputs = [input_.strip().replace(\" \", \"\") for input_ in file.readlines()]"
   ]
  },
  {
   "cell_type": "code",
   "execution_count": 2,
   "metadata": {
    "hideCode": false,
    "hidePrompt": false
   },
   "outputs": [],
   "source": [
    "def get_top_level_brackets(equation):\n",
    "#     bracket_queue = queue.LifoQueue()\n",
    "    open_brackets = 0\n",
    "    outside = None\n",
    "    bracket_pairs = []\n",
    "    \n",
    "    for i, char in enumerate(equation):\n",
    "        if char == \"(\":\n",
    "            open_brackets += 1\n",
    "            \n",
    "            # This is a top level bracket. \n",
    "            if outside is None:\n",
    "                outside = i\n",
    "                \n",
    "        elif char == \")\":\n",
    "            open_brackets -= 1\n",
    "            \n",
    "            # We're closing a top level bracket. \n",
    "            if open_brackets == 0:\n",
    "                bracket_pairs.append((outside+1, i))\n",
    "                outside = None\n",
    "            \n",
    "    return bracket_pairs\n",
    "    "
   ]
  },
  {
   "cell_type": "code",
   "execution_count": 3,
   "metadata": {},
   "outputs": [],
   "source": [
    "def compute_equation(equation):\n",
    "    \"\"\"\n",
    "    Computes an equation without brackets. \n",
    "    \"\"\"\n",
    "    curr_num = \"\"\n",
    "    operation = None\n",
    "    total = 0\n",
    "    for char in equation:\n",
    "        if char.isnumeric():\n",
    "            curr_num += char\n",
    "        else:\n",
    "            # There was an operation already, so perform that operation, then store the new one.\n",
    "            if operation:\n",
    "                if operation == \"+\":\n",
    "                    total += int(curr_num)\n",
    "                else:\n",
    "                    total *= int(curr_num)\n",
    "            else:\n",
    "            # There were no operations done yet, so set total to curr_num. \n",
    "                total = int(curr_num)\n",
    "            operation = char\n",
    "            curr_num = \"\"\n",
    "            \n",
    "    # Do the final operation\n",
    "    if operation == \"+\":\n",
    "        total += int(curr_num)\n",
    "    else:\n",
    "        total *= int(curr_num)\n",
    "        \n",
    "    return total"
   ]
  },
  {
   "cell_type": "code",
   "execution_count": 4,
   "metadata": {
    "hideCode": false,
    "hidePrompt": false
   },
   "outputs": [],
   "source": [
    "def calculate_equation(equation):\n",
    "    subequations = get_top_level_brackets(equation)\n",
    "    subequation_answers = {sub: calculate_equation(equation[sub[0]:sub[1]]) for sub in subequations}\n",
    "    new_equation = \"\"\n",
    "    for i, char in enumerate(equation):\n",
    "        # First character in the a subequation (the bracket \"(\" usually)\n",
    "        if any([i == sub[0]-1 for sub in subequations]):\n",
    "            new_equation += str(subequation_answers[[sub for sub in subequations if sub[0]-1 == i][0]])\n",
    "            \n",
    "        # Not part of a subequation \n",
    "        elif not any([sub[0]<=i<=sub[1] for sub in subequations]):\n",
    "            new_equation += char\n",
    "            \n",
    "        #Ignore otherwise\n",
    "    \n",
    "    return compute_equation(new_equation)"
   ]
  },
  {
   "cell_type": "code",
   "execution_count": 5,
   "metadata": {},
   "outputs": [
    {
     "data": {
      "text/plain": [
       "25190263477788"
      ]
     },
     "execution_count": 5,
     "metadata": {},
     "output_type": "execute_result"
    }
   ],
   "source": [
    "sum([calculate_equation(input_) for input_ in inputs])"
   ]
  },
  {
   "cell_type": "code",
   "execution_count": 6,
   "metadata": {},
   "outputs": [],
   "source": [
    "# For part 2, just have to change compute equation"
   ]
  },
  {
   "cell_type": "code",
   "execution_count": 7,
   "metadata": {},
   "outputs": [],
   "source": [
    "def compute_equation(equation):\n",
    "    sub_equations = [eval(statement) for statement in equation.split(\"*\")]\n",
    "    total = 1\n",
    "    for sub in sub_equations:\n",
    "        total *= sub\n",
    "    return total"
   ]
  },
  {
   "cell_type": "code",
   "execution_count": 8,
   "metadata": {},
   "outputs": [
    {
     "data": {
      "text/plain": [
       "297139939002972"
      ]
     },
     "execution_count": 8,
     "metadata": {},
     "output_type": "execute_result"
    }
   ],
   "source": [
    "sum([calculate_equation(input_) for input_ in inputs])"
   ]
  }
 ],
 "metadata": {
  "hide_code_all_hidden": false,
  "kernelspec": {
   "display_name": "Python 3",
   "language": "python",
   "name": "python3"
  },
  "language_info": {
   "codemirror_mode": {
    "name": "ipython",
    "version": 3
   },
   "file_extension": ".py",
   "mimetype": "text/x-python",
   "name": "python",
   "nbconvert_exporter": "python",
   "pygments_lexer": "ipython3",
   "version": "3.7.9"
  }
 },
 "nbformat": 4,
 "nbformat_minor": 4
}
