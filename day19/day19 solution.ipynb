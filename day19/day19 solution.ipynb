{
 "cells": [
  {
   "cell_type": "code",
   "execution_count": 1,
   "metadata": {},
   "outputs": [],
   "source": [
    "import re\n",
    "import functools\n",
    "with open(\"data.txt\") as file:\n",
    "    text = file.read().split(\"\\n\\n\")\n",
    "\n",
    "rules = text[0].split(\"\\n\")\n",
    "inputs = text[1].split(\"\\n\")"
   ]
  },
  {
   "cell_type": "code",
   "execution_count": 2,
   "metadata": {},
   "outputs": [],
   "source": [
    "rules_dict = {}\n",
    "for rule in rules:\n",
    "    key, value = rule.split(\": \")\n",
    "    rules_dict[key] = value.replace('\"', \"\")"
   ]
  },
  {
   "cell_type": "code",
   "execution_count": 3,
   "metadata": {},
   "outputs": [],
   "source": [
    "@functools.lru_cache(maxsize=None)\n",
    "def get_regex_rule(rule):\n",
    "    if rule == \"a\" or rule == \"b\":\n",
    "        return rule\n",
    "    elif \"|\" not in rule:\n",
    "        result = \"\"\n",
    "        rule_ids = rule.split(\" \")\n",
    "        for rule_id in rule_ids:\n",
    "            result += f\"({get_regex_rule(rules_dict[rule_id])})\"\n",
    "        return result\n",
    "    else:\n",
    "        rule_1, rule_2 = rule.split(\" | \")\n",
    "        return f\"({get_regex_rule(rule_1)})|({get_regex_rule(rule_2)})\""
   ]
  },
  {
   "cell_type": "code",
   "execution_count": 4,
   "metadata": {},
   "outputs": [],
   "source": [
    "regex_rule = get_regex_rule(rules_dict[\"0\"])"
   ]
  },
  {
   "cell_type": "code",
   "execution_count": 5,
   "metadata": {},
   "outputs": [],
   "source": [
    "total = 0\n",
    "for input_ in inputs:\n",
    "    if re.fullmatch(regex_rule, input_):\n",
    "        total += 1"
   ]
  },
  {
   "cell_type": "code",
   "execution_count": 6,
   "metadata": {},
   "outputs": [
    {
     "data": {
      "text/plain": [
       "151"
      ]
     },
     "execution_count": 6,
     "metadata": {},
     "output_type": "execute_result"
    }
   ],
   "source": [
    "total"
   ]
  },
  {
   "cell_type": "code",
   "execution_count": 7,
   "metadata": {},
   "outputs": [],
   "source": [
    "# part 2"
   ]
  },
  {
   "cell_type": "code",
   "execution_count": 8,
   "metadata": {},
   "outputs": [],
   "source": [
    "rules_dict[\"8\"] = \"42 | 42 8\"\n",
    "rules_dict[\"11\"]= \"42 31 | 42 11 31\""
   ]
  },
  {
   "cell_type": "code",
   "execution_count": 9,
   "metadata": {},
   "outputs": [],
   "source": [
    "@functools.lru_cache(maxsize=None)\n",
    "def get_regex_rule(rule):\n",
    "    if rule == \"a\" or rule == \"b\":\n",
    "        return rule\n",
    "    elif rule == \"42 | 42 8\":\n",
    "        return f\"(({get_regex_rule(rules_dict['42'])})+)\"\n",
    "    \n",
    "    elif rule == \"42 31 | 42 11 31\":\n",
    "        rule_42 = get_regex_rule(rules_dict['42'])\n",
    "        rule_31 = get_regex_rule(rules_dict['31'])\n",
    "        result = \"\"\n",
    "        for repeat in range(1, 11):\n",
    "            result += (f\"({rule_42})\"*repeat + f\"({rule_31})\"*repeat + \"|\")\n",
    "        return result[:-1]\n",
    "        \n",
    "    elif \"|\" not in rule:\n",
    "        result = \"\"\n",
    "        rule_ids = rule.split(\" \")\n",
    "        for rule_id in rule_ids:\n",
    "            result += f\"({get_regex_rule(rules_dict[rule_id])})\"\n",
    "        return result\n",
    "    else:\n",
    "        rule_1, rule_2 = rule.split(\" | \")\n",
    "        return f\"({get_regex_rule(rule_1)})|({get_regex_rule(rule_2)})\""
   ]
  },
  {
   "cell_type": "code",
   "execution_count": 10,
   "metadata": {},
   "outputs": [],
   "source": [
    "part_2_regex = get_regex_rule(rules_dict[\"0\"])"
   ]
  },
  {
   "cell_type": "code",
   "execution_count": 11,
   "metadata": {},
   "outputs": [],
   "source": [
    "total = 0\n",
    "for input_ in inputs:\n",
    "    if re.fullmatch(part_2_regex, input_):\n",
    "        total += 1"
   ]
  },
  {
   "cell_type": "code",
   "execution_count": 12,
   "metadata": {},
   "outputs": [
    {
     "data": {
      "text/plain": [
       "386"
      ]
     },
     "execution_count": 12,
     "metadata": {},
     "output_type": "execute_result"
    }
   ],
   "source": [
    "total"
   ]
  }
 ],
 "metadata": {
  "kernelspec": {
   "display_name": "Python 3",
   "language": "python",
   "name": "python3"
  },
  "language_info": {
   "codemirror_mode": {
    "name": "ipython",
    "version": 3
   },
   "file_extension": ".py",
   "mimetype": "text/x-python",
   "name": "python",
   "nbconvert_exporter": "python",
   "pygments_lexer": "ipython3",
   "version": "3.7.9"
  }
 },
 "nbformat": 4,
 "nbformat_minor": 4
}
